{
 "cells": [
  {
   "cell_type": "markdown",
   "metadata": {},
   "source": [
    "**AI Job Market Assistant**"
   ]
  },
  {
   "cell_type": "markdown",
   "metadata": {},
   "source": [
    "## API Keys Setup\n",
    "Setting up environment variables for OpenAI API access. The system loads API keys from environment variables for secure access to language models."
   ]
  },
  {
   "cell_type": "code",
   "execution_count": 244,
   "metadata": {},
   "outputs": [],
   "source": [
    "import os\n",
    "# from getpass import getpass\n",
    "from dotenv import load_dotenv\n",
    "load_dotenv()\n",
    "# os.environ[\"OPENAI_API_KEY\"] = getpass(\"Please enter your OpenAI API key!\")\n",
    "os.environ[\"OPENAI_API_KEY\"] = os.getenv(\"OPENAI_API_KEY\")"
   ]
  },
  {
   "cell_type": "markdown",
   "metadata": {},
   "source": [
    "## Additional API Keys\n",
    "Configuring Tavily (web search) and Cohere (reranking) API keys for enhanced search and document ranking capabilities."
   ]
  },
  {
   "cell_type": "code",
   "execution_count": 245,
   "metadata": {},
   "outputs": [],
   "source": [
    "os.environ[\"TAVILY_API_KEY\"] = os.getenv(\"TAVILY_API_KEY\")"
   ]
  },
  {
   "cell_type": "markdown",
   "metadata": {},
   "source": [
    "## Additional API Configuration\n",
    "Setting up Cohere API key for reranking capabilities and additional service integrations."
   ]
  },
  {
   "cell_type": "code",
   "execution_count": 246,
   "metadata": {},
   "outputs": [],
   "source": [
    "os.environ[\"COHERE_API_KEY\"] = os.getenv(\"COHERE_API_KEY\")"
   ]
  },
  {
   "cell_type": "markdown",
   "metadata": {},
   "source": [
    "## LangSmith Tracing Setup\n",
    "Enabling LangSmith for monitoring and debugging LangChain operations. This helps track agent performance and tool usage during execution."
   ]
  },
  {
   "cell_type": "code",
   "execution_count": 247,
   "metadata": {},
   "outputs": [],
   "source": [
    "from uuid import uuid4\n",
    "\n",
    "os.environ[\"LANGCHAIN_TRACING_V2\"] = \"true\"\n",
    "os.environ[\"LANGCHAIN_PROJECT\"] = f\"AI Job Market Assistant - {uuid4().hex[0:8]}\"\n",
    "# os.environ[\"LANGCHAIN_API_KEY\"] = getpass(\"LangSmith API Key: \")\n",
    "os.environ[\"LANGCHAIN_API_KEY\"] = os.getenv(\"LANGCHAIN_API_KEY\")"
   ]
  },
  {
   "cell_type": "markdown",
   "metadata": {},
   "source": [
    "## Data Directory Setup\n",
    "Creating data directory and checking for the job dataset file. This ensures the required CSV file exists before proceeding with data loading."
   ]
  },
  {
   "cell_type": "code",
   "execution_count": 248,
   "metadata": {},
   "outputs": [
    {
     "name": "stdout",
     "output_type": "stream",
     "text": [
      "Found job_dataset.csv - ready to load data\n"
     ]
    }
   ],
   "source": [
    "# Ensure data directory exists\n",
    "!mkdir -p data\n",
    "\n",
    "# Check if job dataset exists\n",
    "import os\n",
    "if not os.path.exists(\"data/job_dataset.csv\"):\n",
    "    print(\"Warning: job_dataset.csv not found in data directory\")\n",
    "    print(\"Please ensure you have a CSV file with AI job market data\")\n",
    "else:\n",
    "    print(\"Found job_dataset.csv - ready to load data\")"
   ]
  },
  {
   "cell_type": "markdown",
   "metadata": {},
   "source": [
    "## Data Loading and Processing\n",
    "Loading AI job market dataset from CSV file, limiting to 1000 rows for faster processing, and converting to LangChain documents for RAG system."
   ]
  },
  {
   "cell_type": "code",
   "execution_count": 249,
   "metadata": {},
   "outputs": [],
   "source": [
    "from langchain_community.document_loaders import CSVLoader\n",
    "import pandas as pd\n",
    "\n",
    "# Load only the first 5000 rows\n",
    "df = pd.read_csv(\"data/job_dataset.csv\", nrows=1000)\n",
    "df.to_csv(\"data/job_dataset_5k.csv\", index=False)\n",
    "\n",
    "# Load the specific CSV file\n",
    "csv_file_path = \"data/job_dataset_5k.csv\"\n",
    "loader = CSVLoader(file_path=csv_file_path)\n",
    "docs = loader.load()"
   ]
  },
  {
   "cell_type": "markdown",
   "metadata": {},
   "source": [
    "## External Tools Setup\n",
    "Configuring external tools for enhanced search capabilities:\n",
    "- **Tavily**: Web search for current job market trends\n",
    "- **ArXiv**: Academic paper search for research insights"
   ]
  },
  {
   "cell_type": "code",
   "execution_count": 250,
   "metadata": {},
   "outputs": [],
   "source": [
    "from langchain_community.tools.tavily_search import TavilySearchResults\n",
    "from langchain_community.tools.arxiv.tool import ArxivQueryRun\n",
    "\n",
    "tavily_tool = TavilySearchResults(max_results=5)\n",
    "arxiv_tool = ArxivQueryRun()"
   ]
  },
  {
   "cell_type": "markdown",
   "metadata": {},
   "source": [
    "## Text Splitting for Vector Storage\n",
    "Breaking down documents into smaller chunks (1000 chars with 200 overlap) to optimize vector search performance and retrieval accuracy."
   ]
  },
  {
   "cell_type": "code",
   "execution_count": 251,
   "metadata": {},
   "outputs": [
    {
     "data": {
      "text/plain": [
       "1000"
      ]
     },
     "execution_count": 251,
     "metadata": {},
     "output_type": "execute_result"
    }
   ],
   "source": [
    "from langchain.text_splitter import RecursiveCharacterTextSplitter\n",
    "\n",
    "text_splitter = RecursiveCharacterTextSplitter(chunk_size=1000, chunk_overlap=200)\n",
    "split_documents = text_splitter.split_documents(docs)\n",
    "len(split_documents)\n"
   ]
  },
  {
   "cell_type": "markdown",
   "metadata": {},
   "source": [
    "## Embeddings Model Setup\n",
    "Initializing OpenAI's text-embedding-3-small model for converting text into numerical vectors for similarity search."
   ]
  },
  {
   "cell_type": "code",
   "execution_count": 252,
   "metadata": {},
   "outputs": [],
   "source": [
    "from langchain_openai import OpenAIEmbeddings\n",
    "\n",
    "embeddings = OpenAIEmbeddings(model=\"text-embedding-3-small\")"
   ]
  },
  {
   "cell_type": "markdown",
   "metadata": {},
   "source": [
    "## Populating Vector Database\n",
    "Adding all document chunks to the vector store in batches of 50. This process creates searchable embeddings for the entire job dataset with progress tracking."
   ]
  },
  {
   "cell_type": "code",
   "execution_count": 253,
   "metadata": {},
   "outputs": [],
   "source": [
    "from langchain_qdrant import QdrantVectorStore\n",
    "from qdrant_client import QdrantClient\n",
    "from qdrant_client.http.models import Distance, VectorParams\n",
    "\n",
    "client = QdrantClient(\":memory:\")\n",
    "\n",
    "client.create_collection(\n",
    "    collection_name=\"job_market_data\",\n",
    "    vectors_config=VectorParams(size=1536, distance=Distance.COSINE),\n",
    ")\n",
    "\n",
    "vector_store = QdrantVectorStore(\n",
    "    client=client,\n",
    "    collection_name=\"job_market_data\",\n",
    "    embedding=embeddings,\n",
    ")"
   ]
  },
  {
   "cell_type": "markdown",
   "metadata": {},
   "source": [
    "## Retriever Configuration\n",
    "Setting up the vector store as a retriever to find the top 5 most relevant documents for any given query."
   ]
  },
  {
   "cell_type": "code",
   "execution_count": 254,
   "metadata": {},
   "outputs": [
    {
     "name": "stdout",
     "output_type": "stream",
     "text": [
      "Starting to add 1000 documents to vector store...\n",
      "Processing batch 1/20 (50 documents)...\n",
      "Batch 1 completed. Elapsed time: 0.9s\n",
      "Processing batch 2/20 (50 documents)...\n",
      "Batch 2 completed. Elapsed time: 1.6s\n",
      "Processing batch 3/20 (50 documents)...\n",
      "Batch 3 completed. Elapsed time: 2.3s\n",
      "Processing batch 4/20 (50 documents)...\n",
      "Batch 4 completed. Elapsed time: 3.0s\n",
      "Processing batch 5/20 (50 documents)...\n",
      "Batch 5 completed. Elapsed time: 3.7s\n",
      "Processing batch 6/20 (50 documents)...\n",
      "Batch 6 completed. Elapsed time: 4.5s\n",
      "Processing batch 7/20 (50 documents)...\n",
      "Batch 7 completed. Elapsed time: 5.5s\n",
      "Processing batch 8/20 (50 documents)...\n",
      "Batch 8 completed. Elapsed time: 6.1s\n",
      "Processing batch 9/20 (50 documents)...\n",
      "Batch 9 completed. Elapsed time: 6.7s\n",
      "Processing batch 10/20 (50 documents)...\n",
      "Batch 10 completed. Elapsed time: 7.4s\n",
      "Processing batch 11/20 (50 documents)...\n",
      "Batch 11 completed. Elapsed time: 8.3s\n",
      "Processing batch 12/20 (50 documents)...\n",
      "Batch 12 completed. Elapsed time: 9.4s\n",
      "Processing batch 13/20 (50 documents)...\n",
      "Batch 13 completed. Elapsed time: 10.2s\n",
      "Processing batch 14/20 (50 documents)...\n",
      "Batch 14 completed. Elapsed time: 11.0s\n",
      "Processing batch 15/20 (50 documents)...\n",
      "Batch 15 completed. Elapsed time: 11.6s\n",
      "Processing batch 16/20 (50 documents)...\n",
      "Batch 16 completed. Elapsed time: 12.4s\n",
      "Processing batch 17/20 (50 documents)...\n",
      "Batch 17 completed. Elapsed time: 13.1s\n",
      "Processing batch 18/20 (50 documents)...\n",
      "Batch 18 completed. Elapsed time: 13.8s\n",
      "Processing batch 19/20 (50 documents)...\n",
      "Batch 19 completed. Elapsed time: 14.6s\n",
      "Processing batch 20/20 (50 documents)...\n",
      "Batch 20 completed. Elapsed time: 15.4s\n",
      "✅ All documents added successfully! Total time: 15.4s\n"
     ]
    }
   ],
   "source": [
    "import time\n",
    "print(f\"Starting to add {len(split_documents)} documents to vector store...\")\n",
    "start_time = time.time()\n",
    "\n",
    "# Add documents in batches to show progress\n",
    "batch_size = 50\n",
    "total_docs = len(split_documents)\n",
    "\n",
    "if total_docs > 0:\n",
    "    for i in range(0, total_docs, batch_size):\n",
    "        batch = split_documents[i:i+batch_size]\n",
    "        batch_num = (i // batch_size) + 1\n",
    "        total_batches = (total_docs + batch_size - 1) // batch_size\n",
    "        \n",
    "        print(f\"Processing batch {batch_num}/{total_batches} ({len(batch)} documents)...\")\n",
    "        vector_store.add_documents(documents=batch)\n",
    "        \n",
    "        elapsed = time.time() - start_time\n",
    "        print(f\"Batch {batch_num} completed. Elapsed time: {elapsed:.1f}s\")\n",
    "    \n",
    "    total_time = time.time() - start_time\n",
    "    print(f\"✅ All documents added successfully! Total time: {total_time:.1f}s\")\n",
    "else:\n",
    "    print(\"⚠️ No documents to add to vector store\")"
   ]
  },
  {
   "cell_type": "code",
   "execution_count": 255,
   "metadata": {},
   "outputs": [],
   "source": [
    "retriever = vector_store.as_retriever(search_kwargs={\"k\": 5})"
   ]
  },
  {
   "cell_type": "markdown",
   "source": "## Retriever Configuration\nSetting up the vector store as a retriever to find the top 5 most relevant documents for any given query.",
   "metadata": {}
  },
  {
   "cell_type": "code",
   "execution_count": 256,
   "metadata": {},
   "outputs": [],
   "source": [
    "def retrieve(state):\n",
    "    \"\"\"Simple retrieve function without reranking.\"\"\"\n",
    "    retrieved_docs = retriever.invoke(state[\"question\"])\n",
    "    return {\"context\": retrieved_docs}"
   ]
  },
  {
   "cell_type": "markdown",
   "source": "## Basic RAG Functions\nCreating simple retrieve and generate functions for the baseline RAG system without any advanced reranking.",
   "metadata": {}
  },
  {
   "cell_type": "markdown",
   "metadata": {},
   "source": [
    "## RAG Pipeline - Basic Version\n",
    "Creating the first version of our RAG (Retrieval-Augmented Generation) system with:\n",
    "- Simple document retrieval\n",
    "- Context-based response generation\n",
    "- LangGraph workflow orchestration"
   ]
  },
  {
   "cell_type": "markdown",
   "source": "## RAG Prompt Template\nDefining the prompt template that instructs the LLM to answer questions based only on provided context without using external knowledge.",
   "metadata": {}
  },
  {
   "cell_type": "code",
   "execution_count": 257,
   "metadata": {},
   "outputs": [],
   "source": [
    "from langchain.prompts import ChatPromptTemplate\n",
    "\n",
    "RAG_PROMPT = \"\"\"\n",
    "You are a helpful assistant who answers questions based on provided context. You must only use the provided context, and cannot use any other information.\n",
    "\n",
    "### Question\n",
    "{question}\n",
    "\n",
    "### Context\n",
    "{context}\n",
    "\"\"\"\n",
    "\n",
    "rag_prompt = ChatPromptTemplate.from_template(RAG_PROMPT)"
   ]
  },
  {
   "cell_type": "markdown",
   "source": "## Language Model Setup\nInitializing the OpenAI GPT model for generating responses in the RAG pipeline.",
   "metadata": {}
  },
  {
   "cell_type": "code",
   "execution_count": 258,
   "metadata": {},
   "outputs": [],
   "source": [
    "from langchain_openai import ChatOpenAI\n",
    "\n",
    "llm = ChatOpenAI(model=\"gpt-4.1-nano\")"
   ]
  },
  {
   "cell_type": "markdown",
   "source": "## RAG State Definition\nDefining the state schema for the RAG pipeline using TypedDict to track questions, context documents, and responses.",
   "metadata": {}
  },
  {
   "cell_type": "code",
   "execution_count": 259,
   "metadata": {},
   "outputs": [],
   "source": [
    "def generate(state):\n",
    "    docs_content = \"\\n\\n\".join(doc.page_content for doc in state[\"context\"])\n",
    "    messages = rag_prompt.format_messages(question=state[\"question\"], context=docs_content)\n",
    "    response = llm.invoke(messages)\n",
    "    return {\"response\": response.content}"
   ]
  },
  {
   "cell_type": "markdown",
   "source": "## Basic RAG Graph Setup\nBuilding and compiling the basic RAG workflow using LangGraph with retrieve → generate sequence.",
   "metadata": {}
  },
  {
   "cell_type": "code",
   "execution_count": 260,
   "metadata": {},
   "outputs": [],
   "source": [
    "from langgraph.graph import START, StateGraph\n",
    "from typing_extensions import List, TypedDict\n",
    "from langchain_core.documents import Document\n",
    "\n",
    "class State(TypedDict):\n",
    "    question: str\n",
    "    context: List[Document]\n",
    "    response: str"
   ]
  },
  {
   "cell_type": "markdown",
   "source": "## Testing Basic RAG\nTesting the basic RAG system with a sample question about AI job skills to verify functionality.",
   "metadata": {}
  },
  {
   "cell_type": "code",
   "execution_count": 261,
   "metadata": {},
   "outputs": [],
   "source": [
    "graph_builder = StateGraph(State).add_sequence([retrieve, generate])\n",
    "graph_builder.add_edge(START, \"retrieve\")\n",
    "graph = graph_builder.compile()"
   ]
  },
  {
   "cell_type": "markdown",
   "source": "## RAG Tool Creation\nConverting the RAG pipeline into a tool that can be used by the multi-agent system for job market queries.",
   "metadata": {}
  },
  {
   "cell_type": "markdown",
   "metadata": {},
   "source": [
    "## Multi-Agent System Setup\n",
    "Building an intelligent agent system that can:\n",
    "- Use multiple tools (RAG, web search, academic search)\n",
    "- Route queries to appropriate tools\n",
    "- Combine information from multiple sources"
   ]
  },
  {
   "cell_type": "markdown",
   "source": "## Tool Belt Assembly\nCreating a collection of tools (RAG, Tavily web search, ArXiv search) for the multi-agent system to use.",
   "metadata": {}
  },
  {
   "cell_type": "code",
   "execution_count": 262,
   "metadata": {},
   "outputs": [],
   "source": [
    "response = graph.invoke({\"question\" : \"What are the top AI job skills in demand?\"})"
   ]
  },
  {
   "cell_type": "markdown",
   "source": "## Agent Model Configuration\nSetting up the main language model (GPT-4o) for the agent and binding it with the available tools.",
   "metadata": {}
  },
  {
   "cell_type": "code",
   "execution_count": 263,
   "metadata": {},
   "outputs": [
    {
     "data": {
      "text/plain": [
       "'The top AI job skills in demand are NLP, Scala, Statistics, AWS, Deep Learning, Spark, Kubernetes, Python, Azure, and Git.'"
      ]
     },
     "execution_count": 263,
     "metadata": {},
     "output_type": "execute_result"
    }
   ],
   "source": [
    "response[\"response\"]"
   ]
  },
  {
   "cell_type": "markdown",
   "source": "## Agent State Definition\nDefining the agent state schema to track conversation messages and context documents throughout the workflow.",
   "metadata": {}
  },
  {
   "cell_type": "code",
   "execution_count": 264,
   "metadata": {},
   "outputs": [],
   "source": [
    "from langchain_core.tools import tool\n",
    "from langchain_core.messages import HumanMessage\n",
    "\n",
    "@tool\n",
    "def ai_job_rag_tool(question: str) -> str:\n",
    "    \"\"\"Useful for when you need to answer questions about AI job market, skills, salaries, or career advice. Input should be a fully formed question.\"\"\"\n",
    "    response = graph.invoke({\"question\": question})\n",
    "    return {\n",
    "        \"messages\": [HumanMessage(content=response[\"response\"])],\n",
    "        \"context\": response[\"context\"],\n",
    "    }"
   ]
  },
  {
   "cell_type": "markdown",
   "source": "## Agent Functions Setup\nCreating the main agent function and tool node for handling model calls and tool executions in the workflow.",
   "metadata": {}
  },
  {
   "cell_type": "code",
   "execution_count": 265,
   "metadata": {},
   "outputs": [],
   "source": [
    "tool_belt = [\n",
    "    tavily_tool,\n",
    "    arxiv_tool,\n",
    "    ai_job_rag_tool,\n",
    "]"
   ]
  },
  {
   "cell_type": "markdown",
   "source": "## Agent Graph Construction\nBuilding the multi-agent graph structure with agent and action nodes for intelligent tool routing.",
   "metadata": {}
  },
  {
   "cell_type": "code",
   "execution_count": 266,
   "metadata": {},
   "outputs": [],
   "source": [
    "from langchain_openai import ChatOpenAI\n",
    "\n",
    "model = ChatOpenAI(model=\"gpt-4o\", temperature=0)"
   ]
  },
  {
   "cell_type": "markdown",
   "source": "## Agent Entry Point\nSetting the agent as the entry point for all incoming queries in the multi-agent system.",
   "metadata": {}
  },
  {
   "cell_type": "code",
   "execution_count": 267,
   "metadata": {},
   "outputs": [],
   "source": [
    "model = model.bind_tools(tool_belt)"
   ]
  },
  {
   "cell_type": "markdown",
   "source": "## Conditional Logic Setup\nImplementing conditional edges that determine whether to continue with tool calls or end the conversation.",
   "metadata": {}
  },
  {
   "cell_type": "code",
   "execution_count": 268,
   "metadata": {},
   "outputs": [],
   "source": [
    "from typing import TypedDict, Annotated\n",
    "from langgraph.graph.message import add_messages\n",
    "import operator\n",
    "from langchain_core.messages import BaseMessage, HumanMessage\n",
    "from langchain_core.documents import Document\n",
    "\n",
    "class AgentState(TypedDict):\n",
    "    messages: Annotated[list, add_messages]\n",
    "    context: list[Document]\n"
   ]
  },
  {
   "cell_type": "markdown",
   "source": "## Agent Workflow Completion\nAdding the final edge from actions back to agent and compiling the complete multi-agent system.",
   "metadata": {}
  },
  {
   "cell_type": "code",
   "execution_count": 269,
   "metadata": {},
   "outputs": [],
   "source": [
    "from langgraph.prebuilt import ToolNode\n",
    "\n",
    "def call_model(state):\n",
    "    messages = state[\"messages\"]\n",
    "    response = model.invoke(messages)\n",
    "    return {\n",
    "        \"messages\": [response],\n",
    "        \"context\": state.get(\"context\", []),\n",
    "    }\n",
    "\n",
    "tool_node = ToolNode(tool_belt)"
   ]
  },
  {
   "cell_type": "markdown",
   "source": "## Agent Testing - High Paying Jobs\nTesting the multi-agent system with a query about highest paying AI jobs to demonstrate tool routing and response generation.",
   "metadata": {}
  },
  {
   "cell_type": "code",
   "execution_count": 270,
   "metadata": {},
   "outputs": [
    {
     "data": {
      "text/plain": [
       "<langgraph.graph.state.StateGraph at 0x1693b68a0>"
      ]
     },
     "execution_count": 270,
     "metadata": {},
     "output_type": "execute_result"
    }
   ],
   "source": [
    "from langgraph.graph import StateGraph, END\n",
    "\n",
    "uncompiled_graph = StateGraph(AgentState)\n",
    "uncompiled_graph.add_node(\"agent\", call_model)\n",
    "uncompiled_graph.add_node(\"action\", tool_node)"
   ]
  },
  {
   "cell_type": "markdown",
   "source": "## Agent Testing - ArXiv Research\nTesting the agent's ability to search academic papers on ArXiv for AI job market research and trends.",
   "metadata": {}
  },
  {
   "cell_type": "code",
   "execution_count": 271,
   "metadata": {},
   "outputs": [
    {
     "data": {
      "text/plain": [
       "<langgraph.graph.state.StateGraph at 0x1693b68a0>"
      ]
     },
     "execution_count": 271,
     "metadata": {},
     "output_type": "execute_result"
    }
   ],
   "source": [
    "uncompiled_graph.set_entry_point(\"agent\")"
   ]
  },
  {
   "cell_type": "markdown",
   "source": "## Agent Testing - Salary Query\nTesting the agent with a salary question to verify the RAG tool integration and response accuracy.",
   "metadata": {}
  },
  {
   "cell_type": "code",
   "execution_count": 272,
   "metadata": {},
   "outputs": [
    {
     "data": {
      "text/plain": [
       "<langgraph.graph.state.StateGraph at 0x1693b68a0>"
      ]
     },
     "execution_count": 272,
     "metadata": {},
     "output_type": "execute_result"
    }
   ],
   "source": [
    "def should_continue(state):\n",
    "    last_message = state[\"messages\"][-1]\n",
    "\n",
    "    if last_message.tool_calls:\n",
    "        return \"action\"\n",
    "    \n",
    "    return END\n",
    "\n",
    "uncompiled_graph.add_conditional_edges(\n",
    "    \"agent\",\n",
    "    should_continue\n",
    ")"
   ]
  },
  {
   "cell_type": "markdown",
   "source": "## Evaluation Dataset Generation\nCreating test questions and reference answers using RAGAS framework to systematically evaluate our AI assistant's performance on job market queries.",
   "metadata": {}
  },
  {
   "cell_type": "code",
   "execution_count": 273,
   "metadata": {},
   "outputs": [
    {
     "data": {
      "text/plain": [
       "<langgraph.graph.state.StateGraph at 0x1693b68a0>"
      ]
     },
     "execution_count": 273,
     "metadata": {},
     "output_type": "execute_result"
    }
   ],
   "source": [
    "uncompiled_graph.add_edge(\"action\", \"agent\")"
   ]
  },
  {
   "cell_type": "markdown",
   "source": "## Generated Dataset Preview\nDisplaying the generated evaluation dataset with test questions, reference contexts, and expected answers for system validation.",
   "metadata": {}
  },
  {
   "cell_type": "markdown",
   "metadata": {},
   "source": [
    "## Agent Graph Compilation\n",
    "Compiling the multi-agent graph with tool routing capabilities for production use."
   ]
  },
  {
   "cell_type": "markdown",
   "source": "## Context Parser Implementation\nImplementing a comprehensive parser to extract and organize context from different tool responses (Tavily, ArXiv, RAG) for evaluation.",
   "metadata": {}
  },
  {
   "cell_type": "code",
   "execution_count": 274,
   "metadata": {},
   "outputs": [],
   "source": [
    "compiled_graph = uncompiled_graph.compile()"
   ]
  },
  {
   "cell_type": "code",
   "execution_count": 275,
   "metadata": {},
   "outputs": [
    {
     "name": "stdout",
     "output_type": "stream",
     "text": [
      "Receiving update from node: agent\n",
      "[AIMessage(content='', additional_kwargs={'tool_calls': [{'id': 'call_bnRwnfsG5KQlSGsgY1QPFWY5', 'function': {'arguments': '{\"question\":\"What are the highest paying AI jobs in 2025?\"}', 'name': 'ai_job_rag_tool'}, 'type': 'function'}], 'refusal': None}, response_metadata={'token_usage': {'completion_tokens': 28, 'prompt_tokens': 210, 'total_tokens': 238, 'completion_tokens_details': {'accepted_prediction_tokens': 0, 'audio_tokens': 0, 'reasoning_tokens': 0, 'rejected_prediction_tokens': 0}, 'prompt_tokens_details': {'audio_tokens': 0, 'cached_tokens': 0}}, 'model_name': 'gpt-4o-2024-08-06', 'system_fingerprint': 'fp_a288987b44', 'id': 'chatcmpl-C0BJKJhVT88eBwo9DvjMNQ2ZQ645Q', 'service_tier': 'default', 'finish_reason': 'tool_calls', 'logprobs': None}, id='run--b2feedca-d435-44e9-bc07-cacfb0131492-0', tool_calls=[{'name': 'ai_job_rag_tool', 'args': {'question': 'What are the highest paying AI jobs in 2025?'}, 'id': 'call_bnRwnfsG5KQlSGsgY1QPFWY5', 'type': 'tool_call'}], usage_metadata={'input_tokens': 210, 'output_tokens': 28, 'total_tokens': 238, 'input_token_details': {'audio': 0, 'cache_read': 0}, 'output_token_details': {'audio': 0, 'reasoning': 0}})]\n",
      "\n",
      "\n",
      "\n",
      "Receiving update from node: action\n",
      "[ToolMessage(content=\"{'messages': [HumanMessage(content='The highest paying AI jobs in 2025 are:\\\\n\\\\n1. AI Architect at Autonomous Tech in Norway with a salary of USD 223,289.\\\\n2. Head of AI at Cloud AI Solutions in Finland with a salary of USD 111,371.\\\\n3. Head of AI at Smart Analytics in Singapore with a salary of USD 84,728.\\\\n4. Head of AI at Predictive Systems in Singapore with a salary of USD 80,478.\\\\n5. Head of AI at Future Systems in Ireland with a salary of USD 50,135.', additional_kwargs={}, response_metadata={})], 'context': [Document(metadata={'source': 'data/job_dataset_5k.csv', 'row': 555, '_id': 'da6a39cdd4c04d19b80b52e7cc01acf5', '_collection_name': 'job_market_data'}, page_content='job_id: AI00556\\\\njob_title: Head of AI\\\\nsalary_usd: 80478\\\\nsalary_currency: USD\\\\nexperience_level: MI\\\\nemployment_type: FT\\\\ncompany_location: Singapore\\\\ncompany_size: M\\\\nemployee_residence: Singapore\\\\nremote_ratio: 0\\\\nrequired_skills: NLP, PyTorch, Spark, TensorFlow\\\\neducation_required: PhD\\\\nyears_experience: 4\\\\nindustry: Technology\\\\nposting_date: 2024-03-01\\\\napplication_deadline: 2024-03-23\\\\njob_description_length: 2136\\\\nbenefits_score: 5.8\\\\ncompany_name: Predictive Systems'), Document(metadata={'source': 'data/job_dataset_5k.csv', 'row': 460, '_id': '79633a5377d54c21b060b6a9db2a3e1f', '_collection_name': 'job_market_data'}, page_content='job_id: AI00461\\\\njob_title: Head of AI\\\\nsalary_usd: 84728\\\\nsalary_currency: USD\\\\nexperience_level: MI\\\\nemployment_type: FT\\\\ncompany_location: Singapore\\\\ncompany_size: S\\\\nemployee_residence: South Korea\\\\nremote_ratio: 100\\\\nrequired_skills: Python, TensorFlow, Scala\\\\neducation_required: Master\\\\nyears_experience: 3\\\\nindustry: Healthcare\\\\nposting_date: 2025-01-06\\\\napplication_deadline: 2025-02-19\\\\njob_description_length: 1538\\\\nbenefits_score: 8.3\\\\ncompany_name: Smart Analytics'), Document(metadata={'source': 'data/job_dataset_5k.csv', 'row': 991, '_id': 'bd51140bbba04537981179bf36bc7ad9', '_collection_name': 'job_market_data'}, page_content='job_id: AI00992\\\\njob_title: Head of AI\\\\nsalary_usd: 50135\\\\nsalary_currency: USD\\\\nexperience_level: EN\\\\nemployment_type: CT\\\\ncompany_location: Ireland\\\\ncompany_size: M\\\\nemployee_residence: Ireland\\\\nremote_ratio: 0\\\\nrequired_skills: TensorFlow, AWS, PyTorch, Scala\\\\neducation_required: Associate\\\\nyears_experience: 0\\\\nindustry: Healthcare\\\\nposting_date: 2024-12-23\\\\napplication_deadline: 2025-03-04\\\\njob_description_length: 2428\\\\nbenefits_score: 5.2\\\\ncompany_name: Future Systems'), Document(metadata={'source': 'data/job_dataset_5k.csv', 'row': 578, '_id': '12dac422b0e5434f85dff5485316ff52', '_collection_name': 'job_market_data'}, page_content='job_id: AI00579\\\\njob_title: Head of AI\\\\nsalary_usd: 111371\\\\nsalary_currency: USD\\\\nexperience_level: EX\\\\nemployment_type: CT\\\\ncompany_location: Finland\\\\ncompany_size: L\\\\nemployee_residence: Finland\\\\nremote_ratio: 0\\\\nrequired_skills: SQL, Python, Azure, Docker, NLP\\\\neducation_required: Bachelor\\\\nyears_experience: 18\\\\nindustry: Gaming\\\\nposting_date: 2024-01-11\\\\napplication_deadline: 2024-03-22\\\\njob_description_length: 1686\\\\nbenefits_score: 5.6\\\\ncompany_name: Cloud AI Solutions'), Document(metadata={'source': 'data/job_dataset_5k.csv', 'row': 561, '_id': '3cf23047b33e40e3b309b568784e0b01', '_collection_name': 'job_market_data'}, page_content='job_id: AI00562\\\\njob_title: AI Architect\\\\nsalary_usd: 223289\\\\nsalary_currency: USD\\\\nexperience_level: EX\\\\nemployment_type: FT\\\\ncompany_location: Norway\\\\ncompany_size: L\\\\nemployee_residence: Germany\\\\nremote_ratio: 0\\\\nrequired_skills: Java, Deep Learning, Tableau, Scala, TensorFlow\\\\neducation_required: Associate\\\\nyears_experience: 14\\\\nindustry: Gaming\\\\nposting_date: 2025-03-19\\\\napplication_deadline: 2025-04-23\\\\njob_description_length: 1504\\\\nbenefits_score: 7.9\\\\ncompany_name: Autonomous Tech')]}\", name='ai_job_rag_tool', id='46f1f865-fff2-42d2-a493-64faa869a450', tool_call_id='call_bnRwnfsG5KQlSGsgY1QPFWY5')]\n",
      "\n",
      "\n",
      "\n",
      "Receiving update from node: agent\n",
      "[AIMessage(content='The highest paying AI jobs in 2025 are:\\n\\n1. **AI Architect** at Autonomous Tech in Norway with a salary of USD 223,289.\\n2. **Head of AI** at Cloud AI Solutions in Finland with a salary of USD 111,371.\\n3. **Head of AI** at Smart Analytics in Singapore with a salary of USD 84,728.\\n4. **Head of AI** at Predictive Systems in Singapore with a salary of USD 80,478.\\n5. **Head of AI** at Future Systems in Ireland with a salary of USD 50,135.', additional_kwargs={'refusal': None}, response_metadata={'token_usage': {'completion_tokens': 123, 'prompt_tokens': 1349, 'total_tokens': 1472, 'completion_tokens_details': {'accepted_prediction_tokens': 0, 'audio_tokens': 0, 'reasoning_tokens': 0, 'rejected_prediction_tokens': 0}, 'prompt_tokens_details': {'audio_tokens': 0, 'cached_tokens': 0}}, 'model_name': 'gpt-4o-2024-08-06', 'system_fingerprint': 'fp_a288987b44', 'id': 'chatcmpl-C0BJMxEc8mHFkeDojj89vMFV4C656', 'service_tier': 'default', 'finish_reason': 'stop', 'logprobs': None}, id='run--728c9ca9-6c5b-4e67-9615-a5593301dceb-0', usage_metadata={'input_tokens': 1349, 'output_tokens': 123, 'total_tokens': 1472, 'input_token_details': {'audio': 0, 'cache_read': 0}, 'output_token_details': {'audio': 0, 'reasoning': 0}})]\n",
      "\n",
      "\n",
      "\n"
     ]
    }
   ],
   "source": [
    "from langchain_core.messages import HumanMessage\n",
    "\n",
    "inputs = {\"messages\": [HumanMessage(content=\"What are the highest paying AI jobs in 2025?\")]}\n",
    "\n",
    "async for chunk in compiled_graph.astream(inputs, stream_mode=\"updates\"):\n",
    "    for node, values in chunk.items():\n",
    "        print(f\"Receiving update from node: {node}\")\n",
    "        print(values[\"messages\"])\n",
    "    print(\"\\n\\n\")"
   ]
  },
  {
   "cell_type": "code",
   "execution_count": 276,
   "metadata": {},
   "outputs": [
    {
     "name": "stdout",
     "output_type": "stream",
     "text": [
      "Receiving update from node: agent\n",
      "[AIMessage(content='', additional_kwargs={'tool_calls': [{'id': 'call_RUqHntp7KBn4PBkzZ4Jn1DGp', 'function': {'arguments': '{\"query\":\"AI job market trends and skill requirements\"}', 'name': 'arxiv'}, 'type': 'function'}], 'refusal': None}, response_metadata={'token_usage': {'completion_tokens': 20, 'prompt_tokens': 211, 'total_tokens': 231, 'completion_tokens_details': {'accepted_prediction_tokens': 0, 'audio_tokens': 0, 'reasoning_tokens': 0, 'rejected_prediction_tokens': 0}, 'prompt_tokens_details': {'audio_tokens': 0, 'cached_tokens': 0}}, 'model_name': 'gpt-4o-2024-08-06', 'system_fingerprint': 'fp_a288987b44', 'id': 'chatcmpl-C0BJO7RJCeSw5bSUbv4xD7eJnWI9U', 'service_tier': 'default', 'finish_reason': 'tool_calls', 'logprobs': None}, id='run--8a363a91-54ee-4f1c-a0a5-8a6c4c4aed78-0', tool_calls=[{'name': 'arxiv', 'args': {'query': 'AI job market trends and skill requirements'}, 'id': 'call_RUqHntp7KBn4PBkzZ4Jn1DGp', 'type': 'tool_call'}], usage_metadata={'input_tokens': 211, 'output_tokens': 20, 'total_tokens': 231, 'input_token_details': {'audio': 0, 'cache_read': 0}, 'output_token_details': {'audio': 0, 'reasoning': 0}})]\n",
      "\n",
      "\n",
      "\n",
      "Receiving update from node: action\n",
      "Tool Used: arxiv\n",
      "[ToolMessage(content='Published: 2024-12-09\\nTitle: Generative AI Impact on Labor Market: Analyzing ChatGPT\\'s Demand in Job Advertisements\\nAuthors: Mahdi Ahmadi, Neda Khosh Kheslat, Adebola Akintomide\\nSummary: The rapid advancement of Generative AI (Gen AI) technologies, particularly\\ntools like ChatGPT, is significantly impacting the labor market by reshaping\\njob roles and skill requirements. This study examines the demand for\\nChatGPT-related skills in the U.S. labor market by analyzing job advertisements\\ncollected from major job platforms between May and December 2023. Using text\\nmining and topic modeling techniques, we extracted and analyzed the Gen\\nAI-related skills that employers are hiring for. Our analysis identified five\\ndistinct ChatGPT-related skill sets: general familiarity, creative content\\ngeneration, marketing, advanced functionalities (such as prompt engineering),\\nand product development. In addition, the study provides insights into job\\nattributes such as occupation titles, degree requirements, salary ranges, and\\nother relevant job characteristics. These findings highlight the increasing\\nintegration of Gen AI across various industries, emphasizing the growing need\\nfor both foundational knowledge and advanced technical skills. The study offers\\nvaluable insights into the evolving demands of the labor market, as employers\\nseek candidates equipped to leverage generative AI tools to improve\\nproductivity, streamline processes, and drive innovation.\\n\\nPublished: 2025-05-29\\nTitle: Prompt Engineer: Analyzing Skill Requirements in the AI Job Market\\nAuthors: An Vu, Jonas Oppenlaender\\nSummary: The rise of large language models (LLMs) has created a new job role: the\\nPrompt Engineer. Despite growing interest in this position, we still do not\\nfully understand what skills this new job role requires or how common these\\njobs are. We analyzed 20,662 job postings on LinkedIn, including 72 prompt\\nengineer positions, to learn more about this emerging role. We found that\\nprompt engineering is still rare (less than 0.5% of sampled job postings) but\\nhas a unique skill profile. Prompt engineers need AI knowledge (22.8%), prompt\\ndesign skills (18.7%), good communication (21.9%), and creative problem-solving\\n(15.8%) skills. These requirements significantly differ from those of\\nestablished roles, such as data scientists and machine learning engineers,\\nshowing that prompt engineering is becoming its own profession. Our findings\\nhelp job seekers, employers, and educational institutions in better\\nunderstanding the emerging field of prompt engineering.\\n\\nPublished: 2024-11-06\\nTitle: Skills or Degree? The Rise of Skill-Based Hiring for AI and Green Jobs\\nAuthors: Matthew Bone, Eugenia Ehlinger, Fabian Stephany\\nSummary: Emerging professions in fields like Artificial Intelligence (AI) and\\nsustainability (green jobs) are experiencing labour shortages as industry\\ndemand outpaces labour supply. In this context, our study aims to understand\\nwhether employers have begun focusing more on individual skills rather than\\nformal qualifications in their recruitment processes. We analysed a large\\ntime-series dataset of approximately eleven million online job vacancies in the\\nUK from 2018 to mid-2024, drawing on diverse literature on technological change\\nand labour market signalling. Our findings provide evidence that employers have\\ninitiated \"skill-based hiring\" for AI roles, adopting more flexible hiring\\npractices to expand the available talent pool. From 2018-2023, demand for AI\\nroles grew by 21% as a proportion of all postings (and accelerated into 2024).\\nSimultaneously, mentions of university education requirements for AI roles\\ndeclined by 15%. Our regression analysis shows that university degrees have a\\nsignificantly lower wage premium for both AI and green roles. In contrast, AI\\nskills command a wage premium of 23%, exceeding the value of degrees up until\\nthe PhD-level (33%). In occupations with high demand for AI skills, the premium\\nfor skills is high, and the reward for degrees', name='arxiv', id='2322d6e1-b023-4f07-af1e-78bcbecae4d8', tool_call_id='call_RUqHntp7KBn4PBkzZ4Jn1DGp')]\n",
      "\n",
      "\n",
      "\n",
      "Receiving update from node: agent\n",
      "[AIMessage(content=\"Here are some recent papers from Arxiv on AI job market trends and skill requirements:\\n\\n1. **Title:** Generative AI Impact on Labor Market: Analyzing ChatGPT's Demand in Job Advertisements\\n   - **Authors:** Mahdi Ahmadi, Neda Khosh Kheslat, Adebola Akintomide\\n   - **Published:** 2024-12-09\\n   - **Summary:** This study examines the demand for ChatGPT-related skills in the U.S. labor market by analyzing job advertisements from major platforms between May and December 2023. It identifies five distinct ChatGPT-related skill sets: general familiarity, creative content generation, marketing, advanced functionalities (such as prompt engineering), and product development. The study highlights the growing need for both foundational knowledge and advanced technical skills in generative AI.\\n\\n2. **Title:** Prompt Engineer: Analyzing Skill Requirements in the AI Job Market\\n   - **Authors:** An Vu, Jonas Oppenlaender\\n   - **Published:** 2025-05-29\\n   - **Summary:** This paper explores the emerging role of Prompt Engineer, analyzing 20,662 job postings on LinkedIn. It finds that prompt engineering is rare but has a unique skill profile requiring AI knowledge, prompt design skills, good communication, and creative problem-solving. The findings help in understanding the emerging field of prompt engineering.\\n\\n3. **Title:** Skills or Degree? The Rise of Skill-Based Hiring for AI and Green Jobs\\n   - **Authors:** Matthew Bone, Eugenia Ehlinger, Fabian Stephany\\n   - **Published:** 2024-11-06\\n   - **Summary:** This study investigates whether employers are focusing more on individual skills rather than formal qualifications for AI and green jobs. Analyzing a dataset of approximately eleven million online job vacancies in the UK, it finds that skill-based hiring is becoming more prevalent, with AI skills commanding a significant wage premium over degrees.\\n\\nThese papers provide valuable insights into the evolving demands of the AI job market, emphasizing the importance of specific skills over traditional qualifications.\", additional_kwargs={'refusal': None}, response_metadata={'token_usage': {'completion_tokens': 423, 'prompt_tokens': 1077, 'total_tokens': 1500, 'completion_tokens_details': {'accepted_prediction_tokens': 0, 'audio_tokens': 0, 'reasoning_tokens': 0, 'rejected_prediction_tokens': 0}, 'prompt_tokens_details': {'audio_tokens': 0, 'cached_tokens': 0}}, 'model_name': 'gpt-4o-2024-08-06', 'system_fingerprint': 'fp_a288987b44', 'id': 'chatcmpl-C0BJQV3iQaR3bsiUlEV9i61HwRDHn', 'service_tier': 'default', 'finish_reason': 'stop', 'logprobs': None}, id='run--60950807-a985-4887-a214-aeb6277f2160-0', usage_metadata={'input_tokens': 1077, 'output_tokens': 423, 'total_tokens': 1500, 'input_token_details': {'audio': 0, 'cache_read': 0}, 'output_token_details': {'audio': 0, 'reasoning': 0}})]\n",
      "\n",
      "\n",
      "\n"
     ]
    }
   ],
   "source": [
    "inputs = {\"messages\": [HumanMessage(content=\"Search Arxiv for papers on AI job market trends and skill requirements\")]}\n",
    "\n",
    "async for chunk in compiled_graph.astream(inputs, stream_mode=\"updates\"):\n",
    "    for node, values in chunk.items():\n",
    "        print(f\"Receiving update from node: {node}\")\n",
    "        if node == \"action\":\n",
    "            print(f\"Tool Used: {values['messages'][0].name}\")\n",
    "        print(values[\"messages\"])\n",
    "        \n",
    "        print(\"\\n\\n\")"
   ]
  },
  {
   "cell_type": "code",
   "execution_count": 277,
   "metadata": {},
   "outputs": [
    {
     "name": "stdout",
     "output_type": "stream",
     "text": [
      "Receiving update from node: agent\n",
      "[AIMessage(content='', additional_kwargs={'tool_calls': [{'id': 'call_nWyzIdKz0NOpgLfPifgGsiMk', 'function': {'arguments': '{\"question\":\"What is the average salary for an AI engineer?\"}', 'name': 'ai_job_rag_tool'}, 'type': 'function'}], 'refusal': None}, response_metadata={'token_usage': {'completion_tokens': 26, 'prompt_tokens': 208, 'total_tokens': 234, 'completion_tokens_details': {'accepted_prediction_tokens': 0, 'audio_tokens': 0, 'reasoning_tokens': 0, 'rejected_prediction_tokens': 0}, 'prompt_tokens_details': {'audio_tokens': 0, 'cached_tokens': 0}}, 'model_name': 'gpt-4o-2024-08-06', 'system_fingerprint': 'fp_a288987b44', 'id': 'chatcmpl-C0BJXn3BriuDMQ8VX0GvuPpfH4gjR', 'service_tier': 'default', 'finish_reason': 'tool_calls', 'logprobs': None}, id='run--e5b653c2-dd50-4f0a-ad76-a463042aeb6d-0', tool_calls=[{'name': 'ai_job_rag_tool', 'args': {'question': 'What is the average salary for an AI engineer?'}, 'id': 'call_nWyzIdKz0NOpgLfPifgGsiMk', 'type': 'tool_call'}], usage_metadata={'input_tokens': 208, 'output_tokens': 26, 'total_tokens': 234, 'input_token_details': {'audio': 0, 'cache_read': 0}, 'output_token_details': {'audio': 0, 'reasoning': 0}})]\n",
      "\n",
      "\n",
      "\n",
      "Receiving update from node: action\n",
      "Tool Used: ai_job_rag_tool\n",
      "[ToolMessage(content=\"{'messages': [HumanMessage(content='The average salary for an AI engineer based on the provided data is approximately $66,239 USD.', additional_kwargs={}, response_metadata={})], 'context': [Document(metadata={'source': 'data/job_dataset_5k.csv', 'row': 63, '_id': '990189f200cf42e0ad307a4afa264a58', '_collection_name': 'job_market_data'}, page_content='job_id: AI00064\\\\njob_title: AI Software Engineer\\\\nsalary_usd: 99972\\\\nsalary_currency: USD\\\\nexperience_level: MI\\\\nemployment_type: PT\\\\ncompany_location: Australia\\\\ncompany_size: M\\\\nemployee_residence: Canada\\\\nremote_ratio: 50\\\\nrequired_skills: Java, R, Deep Learning, NLP, Azure\\\\neducation_required: PhD\\\\nyears_experience: 4\\\\nindustry: Technology\\\\nposting_date: 2024-02-20\\\\napplication_deadline: 2024-03-15\\\\njob_description_length: 799\\\\nbenefits_score: 6.5\\\\ncompany_name: Cloud AI Solutions'), Document(metadata={'source': 'data/job_dataset_5k.csv', 'row': 669, '_id': '4f511803d0a54adb96768e9a2be206dc', '_collection_name': 'job_market_data'}, page_content='job_id: AI00670\\\\njob_title: AI Software Engineer\\\\nsalary_usd: 52062\\\\nsalary_currency: USD\\\\nexperience_level: EN\\\\nemployment_type: PT\\\\ncompany_location: India\\\\ncompany_size: L\\\\nemployee_residence: India\\\\nremote_ratio: 50\\\\nrequired_skills: Azure, Python, NLP, TensorFlow\\\\neducation_required: Bachelor\\\\nyears_experience: 0\\\\nindustry: Retail\\\\nposting_date: 2025-01-19\\\\napplication_deadline: 2025-02-15\\\\njob_description_length: 1678\\\\nbenefits_score: 5.6\\\\ncompany_name: Advanced Robotics'), Document(metadata={'source': 'data/job_dataset_5k.csv', 'row': 176, '_id': 'a4c50ac68a1741f89eedb164628effe3', '_collection_name': 'job_market_data'}, page_content='job_id: AI00177\\\\njob_title: AI Software Engineer\\\\nsalary_usd: 56825\\\\nsalary_currency: USD\\\\nexperience_level: MI\\\\nemployment_type: PT\\\\ncompany_location: China\\\\ncompany_size: M\\\\nemployee_residence: China\\\\nremote_ratio: 50\\\\nrequired_skills: Linux, Azure, Git, Deep Learning, Spark\\\\neducation_required: Associate\\\\nyears_experience: 3\\\\nindustry: Government\\\\nposting_date: 2024-07-11\\\\napplication_deadline: 2024-08-02\\\\njob_description_length: 2301\\\\nbenefits_score: 9.5\\\\ncompany_name: AI Innovations'), Document(metadata={'source': 'data/job_dataset_5k.csv', 'row': 162, '_id': '6419c8a5d6534de797db9903d4a3d0bf', '_collection_name': 'job_market_data'}, page_content='job_id: AI00163\\\\njob_title: AI Software Engineer\\\\nsalary_usd: 51898\\\\nsalary_currency: USD\\\\nexperience_level: MI\\\\nemployment_type: FL\\\\ncompany_location: Israel\\\\ncompany_size: S\\\\nemployee_residence: Israel\\\\nremote_ratio: 0\\\\nrequired_skills: Deep Learning, Python, NLP\\\\neducation_required: Associate\\\\nyears_experience: 2\\\\nindustry: Consulting\\\\nposting_date: 2024-10-05\\\\napplication_deadline: 2024-11-26\\\\njob_description_length: 721\\\\nbenefits_score: 8.9\\\\ncompany_name: Machine Intelligence Group'), Document(metadata={'source': 'data/job_dataset_5k.csv', 'row': 913, '_id': 'f8ba8fda8dd84b4884f5dd3fe38196b2', '_collection_name': 'job_market_data'}, page_content='job_id: AI00914\\\\njob_title: Head of AI\\\\nsalary_usd: 73640\\\\nsalary_currency: USD\\\\nexperience_level: MI\\\\nemployment_type: CT\\\\ncompany_location: India\\\\ncompany_size: M\\\\nemployee_residence: Austria\\\\nremote_ratio: 0\\\\nrequired_skills: NLP, Scala, Statistics, AWS\\\\neducation_required: Master\\\\nyears_experience: 4\\\\nindustry: Media\\\\nposting_date: 2024-08-23\\\\napplication_deadline: 2024-10-31\\\\njob_description_length: 1909\\\\nbenefits_score: 7.8\\\\ncompany_name: DeepTech Ventures')]}\", name='ai_job_rag_tool', id='a8c3547a-1717-4678-a3bf-c45dd88f13a2', tool_call_id='call_nWyzIdKz0NOpgLfPifgGsiMk')]\n",
      "\n",
      "\n",
      "\n",
      "Receiving update from node: agent\n",
      "[AIMessage(content='The average salary for an AI engineer is approximately $66,239 USD.', additional_kwargs={'refusal': None}, response_metadata={'token_usage': {'completion_tokens': 16, 'prompt_tokens': 1243, 'total_tokens': 1259, 'completion_tokens_details': {'accepted_prediction_tokens': 0, 'audio_tokens': 0, 'reasoning_tokens': 0, 'rejected_prediction_tokens': 0}, 'prompt_tokens_details': {'audio_tokens': 0, 'cached_tokens': 0}}, 'model_name': 'gpt-4o-2024-08-06', 'system_fingerprint': 'fp_a288987b44', 'id': 'chatcmpl-C0BJZGYGasD9qg1irhVataYuULu7V', 'service_tier': 'default', 'finish_reason': 'stop', 'logprobs': None}, id='run--a8fc6dc7-8063-4d67-b971-fc7cab257a5b-0', usage_metadata={'input_tokens': 1243, 'output_tokens': 16, 'total_tokens': 1259, 'input_token_details': {'audio': 0, 'cache_read': 0}, 'output_token_details': {'audio': 0, 'reasoning': 0}})]\n",
      "\n",
      "\n",
      "\n"
     ]
    }
   ],
   "source": [
    "inputs = {\"messages\": [HumanMessage(content=\"What is the average salary for an AI engineer?\")]}\n",
    "\n",
    "async for chunk in compiled_graph.astream(inputs, stream_mode=\"updates\"):\n",
    "    for node, values in chunk.items():\n",
    "        print(f\"Receiving update from node: {node}\")\n",
    "        if node == \"action\":\n",
    "            print(f\"Tool Used: {values['messages'][0].name}\")\n",
    "        print(values[\"messages\"])\n",
    "        \n",
    "        print(\"\\n\\n\")"
   ]
  },
  {
   "cell_type": "code",
   "execution_count": 278,
   "metadata": {},
   "outputs": [],
   "source": [
    "from ragas.llms import LangchainLLMWrapper\n",
    "from ragas.embeddings import LangchainEmbeddingsWrapper\n",
    "from langchain_openai import ChatOpenAI\n",
    "from langchain_openai import OpenAIEmbeddings\n",
    "\n",
    "generator_llm = LangchainLLMWrapper(ChatOpenAI(model=\"gpt-4.1-nano\"))\n",
    "generator_embeddings = LangchainEmbeddingsWrapper(OpenAIEmbeddings())"
   ]
  },
  {
   "cell_type": "code",
   "execution_count": 279,
   "metadata": {},
   "outputs": [
    {
     "name": "stdout",
     "output_type": "stream",
     "text": [
      "Loading cached dataset from job_market_dataset_cache.json...\n",
      "Loaded 10 test samples from cache\n"
     ]
    }
   ],
   "source": [
    "import pandas as pd\n",
    "import os\n",
    "from ragas.testset import TestsetGenerator\n",
    "\n",
    "# Use simple static cache filename for job market dataset\n",
    "cache_file = \"job_market_dataset_cache.json\"\n",
    "\n",
    "if os.path.exists(cache_file):\n",
    "    print(f\"Loading cached dataset from {cache_file}...\")\n",
    "    cached_df = pd.read_json(cache_file)\n",
    "    from ragas import EvaluationDataset\n",
    "    dataset = EvaluationDataset.from_pandas(cached_df)\n",
    "    print(f\"Loaded {len(dataset)} test samples from cache\")\n",
    "else:\n",
    "    print(\"Generating new dataset...\")\n",
    "    generator = TestsetGenerator(llm=generator_llm, embedding_model=generator_embeddings)\n",
    "    dataset = generator.generate_with_langchain_docs(docs[:50], testset_size=10)\n",
    "    \n",
    "    print(f\"Caching dataset to {cache_file}...\")\n",
    "    dataset.to_pandas().to_json(cache_file, orient='records', indent=2)\n",
    "    print(f\"Generated and cached {len(dataset)} test samples\")"
   ]
  },
  {
   "cell_type": "code",
   "execution_count": 280,
   "metadata": {},
   "outputs": [
    {
     "data": {
      "text/html": [
       "<div>\n",
       "<style scoped>\n",
       "    .dataframe tbody tr th:only-of-type {\n",
       "        vertical-align: middle;\n",
       "    }\n",
       "\n",
       "    .dataframe tbody tr th {\n",
       "        vertical-align: top;\n",
       "    }\n",
       "\n",
       "    .dataframe thead th {\n",
       "        text-align: right;\n",
       "    }\n",
       "</style>\n",
       "<table border=\"1\" class=\"dataframe\">\n",
       "  <thead>\n",
       "    <tr style=\"text-align: right;\">\n",
       "      <th></th>\n",
       "      <th>user_input</th>\n",
       "      <th>reference_contexts</th>\n",
       "      <th>reference</th>\n",
       "    </tr>\n",
       "  </thead>\n",
       "  <tbody>\n",
       "    <tr>\n",
       "      <th>0</th>\n",
       "      <td>As an aspiring data engineer interested in the...</td>\n",
       "      <td>[job_id: AI00001\\njob_title: AI Research Scien...</td>\n",
       "      <td>The position at Smart Analytics is within the ...</td>\n",
       "    </tr>\n",
       "    <tr>\n",
       "      <th>1</th>\n",
       "      <td>As an aspiring data engineer, how is AWS relev...</td>\n",
       "      <td>[job_id: AI00002\\njob_title: AI Software Engin...</td>\n",
       "      <td>In the context of the AI Software Engineer pos...</td>\n",
       "    </tr>\n",
       "    <tr>\n",
       "      <th>2</th>\n",
       "      <td>What is the required education for the AI Spec...</td>\n",
       "      <td>[job_id: AI00003\\njob_title: AI Specialist\\nsa...</td>\n",
       "      <td>The required education for the AI Specialist r...</td>\n",
       "    </tr>\n",
       "    <tr>\n",
       "      <th>3</th>\n",
       "      <td>What are the oppurtunities at Future Systems f...</td>\n",
       "      <td>[job_id: AI00004\\njob_title: NLP Engineer\\nsal...</td>\n",
       "      <td>The context provides information about a job p...</td>\n",
       "    </tr>\n",
       "    <tr>\n",
       "      <th>4</th>\n",
       "      <td>France job?</td>\n",
       "      <td>[job_id: AI00005\\njob_title: AI Consultant\\nsa...</td>\n",
       "      <td>The job is located in France at Advanced Robot...</td>\n",
       "    </tr>\n",
       "    <tr>\n",
       "      <th>5</th>\n",
       "      <td>Wht is the job in Austrailia that requiers ski...</td>\n",
       "      <td>[&lt;1-hop&gt;\\n\\njob_id: AI00028\\njob_title: Data A...</td>\n",
       "      <td>The job in Austrailia is for a ML Ops Engineer...</td>\n",
       "    </tr>\n",
       "    <tr>\n",
       "      <th>6</th>\n",
       "      <td>Considering the roles of a Research Scientist ...</td>\n",
       "      <td>[&lt;1-hop&gt;\\n\\njob_id: AI00032\\njob_title: Resear...</td>\n",
       "      <td>Both the Research Scientist position at Cloud ...</td>\n",
       "    </tr>\n",
       "    <tr>\n",
       "      <th>7</th>\n",
       "      <td>Considering the opportunities available in Ind...</td>\n",
       "      <td>[&lt;1-hop&gt;\\n\\njob_id: AI00027\\njob_title: ML Ops...</td>\n",
       "      <td>The ML Ops Engineer position at TechCorp Inc i...</td>\n",
       "    </tr>\n",
       "    <tr>\n",
       "      <th>8</th>\n",
       "      <td>Considering the roles of a ML Ops Engineer at ...</td>\n",
       "      <td>[&lt;1-hop&gt;\\n\\njob_id: AI00045\\njob_title: ML Ops...</td>\n",
       "      <td>Proficiency in Docker is crucial for both the ...</td>\n",
       "    </tr>\n",
       "    <tr>\n",
       "      <th>9</th>\n",
       "      <td>so if i want to be a data scientist in real es...</td>\n",
       "      <td>[&lt;1-hop&gt;\\n\\njob_id: AI00032\\njob_title: Resear...</td>\n",
       "      <td>Based on the context, if you want to be a data...</td>\n",
       "    </tr>\n",
       "  </tbody>\n",
       "</table>\n",
       "</div>"
      ],
      "text/plain": [
       "                                          user_input  \\\n",
       "0  As an aspiring data engineer interested in the...   \n",
       "1  As an aspiring data engineer, how is AWS relev...   \n",
       "2  What is the required education for the AI Spec...   \n",
       "3  What are the oppurtunities at Future Systems f...   \n",
       "4                                        France job?   \n",
       "5  Wht is the job in Austrailia that requiers ski...   \n",
       "6  Considering the roles of a Research Scientist ...   \n",
       "7  Considering the opportunities available in Ind...   \n",
       "8  Considering the roles of a ML Ops Engineer at ...   \n",
       "9  so if i want to be a data scientist in real es...   \n",
       "\n",
       "                                  reference_contexts  \\\n",
       "0  [job_id: AI00001\\njob_title: AI Research Scien...   \n",
       "1  [job_id: AI00002\\njob_title: AI Software Engin...   \n",
       "2  [job_id: AI00003\\njob_title: AI Specialist\\nsa...   \n",
       "3  [job_id: AI00004\\njob_title: NLP Engineer\\nsal...   \n",
       "4  [job_id: AI00005\\njob_title: AI Consultant\\nsa...   \n",
       "5  [<1-hop>\\n\\njob_id: AI00028\\njob_title: Data A...   \n",
       "6  [<1-hop>\\n\\njob_id: AI00032\\njob_title: Resear...   \n",
       "7  [<1-hop>\\n\\njob_id: AI00027\\njob_title: ML Ops...   \n",
       "8  [<1-hop>\\n\\njob_id: AI00045\\njob_title: ML Ops...   \n",
       "9  [<1-hop>\\n\\njob_id: AI00032\\njob_title: Resear...   \n",
       "\n",
       "                                           reference  \n",
       "0  The position at Smart Analytics is within the ...  \n",
       "1  In the context of the AI Software Engineer pos...  \n",
       "2  The required education for the AI Specialist r...  \n",
       "3  The context provides information about a job p...  \n",
       "4  The job is located in France at Advanced Robot...  \n",
       "5  The job in Austrailia is for a ML Ops Engineer...  \n",
       "6  Both the Research Scientist position at Cloud ...  \n",
       "7  The ML Ops Engineer position at TechCorp Inc i...  \n",
       "8  Proficiency in Docker is crucial for both the ...  \n",
       "9  Based on the context, if you want to be a data...  "
      ]
     },
     "execution_count": 280,
     "metadata": {},
     "output_type": "execute_result"
    }
   ],
   "source": [
    "dataset.to_pandas()"
   ]
  },
  {
   "cell_type": "code",
   "execution_count": 281,
   "metadata": {},
   "outputs": [],
   "source": [
    "import json\n",
    "from typing import Dict, List, Optional, Union, Any\n",
    "import re\n",
    "import ast\n",
    "\n",
    "class ContextParser:\n",
    "    \"\"\"Parser for extracting and organizing context from conversation messages.\"\"\"\n",
    "\n",
    "    @staticmethod\n",
    "    def detect_tool_type(message: Any) -> Optional[str]:\n",
    "        \"\"\"Detect the tool type from the message.\"\"\"\n",
    "        try:\n",
    "            if hasattr(message, 'name'):\n",
    "                print(f\"Found tool name: {message.name}\")\n",
    "                if 'tavily' in message.name.lower():\n",
    "                    return 'tavily'\n",
    "                elif 'ai_rag' in message.name.lower():\n",
    "                    return 'ai_rag'\n",
    "                elif 'arxiv' in message.name.lower():\n",
    "                    return 'arxiv'\n",
    "            return None\n",
    "        except Exception as e:\n",
    "            print(f\"Error detecting tool type: {str(e)}\")\n",
    "            return None\n",
    "\n",
    "    @staticmethod\n",
    "    def extract_content(message: Any) -> Optional[str]:\n",
    "        \"\"\"Extract content from a message object.\"\"\"\n",
    "        try:\n",
    "            if hasattr(message, 'content'):\n",
    "                content = message.content\n",
    "                if isinstance(content, str):\n",
    "                    # Handle different content formats\n",
    "                    if content.startswith('content=\"') or content.startswith(\"content='\"):\n",
    "                        # Extract content between quotes\n",
    "                        quote_char = '\"' if content.startswith('content=\"') else \"'\"\n",
    "                        start_idx = len(f'content={quote_char}')\n",
    "                        # Find the last occurrence of the quote before ' name='\n",
    "                        if ' name=' in content:\n",
    "                            end_idx = content.rfind(quote_char, start_idx, content.index(' name='))\n",
    "                            return content[start_idx:end_idx]\n",
    "                        else:\n",
    "                            # If no ' name=' found, find the last quote\n",
    "                            end_idx = content.rfind(quote_char)\n",
    "                            return content[start_idx:end_idx]\n",
    "                    return content\n",
    "                elif isinstance(content, list):\n",
    "                    # If content is a list, convert to string\n",
    "                    return json.dumps(content)\n",
    "            return None     \n",
    "        except Exception as e:\n",
    "            print(f\"Error extracting content: {str(e)}\")\n",
    "            return None\n",
    "        \n",
    "    @staticmethod\n",
    "    def parse_tavily_results(content: str) -> List[Dict]:\n",
    "        \"\"\"Parse Tavily search results from content string.\"\"\"\n",
    "        try:\n",
    "            # Handle different content formats\n",
    "            if isinstance(content, str):\n",
    "                # Try to parse as JSON first\n",
    "                try:\n",
    "                    data = json.loads(content)\n",
    "                except:\n",
    "                    # If not valid JSON, try to extract JSON from the string\n",
    "                    json_match = re.search(r'\\[.*\\]', content, re.DOTALL)\n",
    "                    if json_match:\n",
    "                        data = json.loads(json_match.group())\n",
    "                    else:\n",
    "                        return []\n",
    "            else:\n",
    "                data = content\n",
    "                \n",
    "            # Get results array from the appropriate location\n",
    "            if isinstance(data, list):\n",
    "                results = data\n",
    "            elif isinstance(data, dict):\n",
    "                if 'artifact' in data and 'results' in data['artifact']:\n",
    "                    results = data['artifact']['results']\n",
    "                elif 'results' in data:\n",
    "                    results = data['results']\n",
    "                else:\n",
    "                    results = []\n",
    "            else:\n",
    "                results = []\n",
    "                \n",
    "            # Process and clean results\n",
    "            cleaned_results = []\n",
    "            for result in results:\n",
    "                if isinstance(result, dict):\n",
    "                    content_text = result.get('content', '')\n",
    "                    if isinstance(content_text, dict):\n",
    "                        content_text = str(content_text)\n",
    "                    if content_text:  # Only add if content is not empty\n",
    "                        cleaned_results.append({\n",
    "                            'content': content_text,\n",
    "                            'url': result.get('url', ''),\n",
    "                            'title': result.get('title', '')\n",
    "                        })\n",
    "            \n",
    "            return cleaned_results\n",
    "        except Exception as e:\n",
    "            print(f\"Error parsing Tavily results: {str(e)}\")\n",
    "            return []\n",
    "\n",
    "    @staticmethod\n",
    "    def parse_ai_rag_results(content: str) -> List[Dict]:\n",
    "        \"\"\"Parse AI RAG tool results from content string.\"\"\"\n",
    "        try:\n",
    "            # First check if content contains the expected Document format\n",
    "            if 'Document(' not in content and 'page_content' not in content:\n",
    "                # Try to extract just the response message\n",
    "                if 'HumanMessage' in content:\n",
    "                    msg_match = re.search(r\"content='([^']+)'\", content)\n",
    "                    if msg_match:\n",
    "                        return [{'content': msg_match.group(1)}]\n",
    "                return []\n",
    "            \n",
    "            # Clean up the content string\n",
    "            content = content.replace('\\\\\\\\', '\\\\')\n",
    "            content = content.replace('\\\\n', '\\n')\n",
    "            \n",
    "            # Extract all Document entries\n",
    "            documents = []\n",
    "            \n",
    "            # Pattern to match Document(metadata={...}, page_content='...')\n",
    "            doc_pattern = r\"Document\\(metadata=({[^}]+}),\\s*page_content='([^']+)'\"\n",
    "            matches = re.finditer(doc_pattern, content)\n",
    "            \n",
    "            for match in matches:\n",
    "                try:\n",
    "                    metadata_str = match.group(1)\n",
    "                    page_content = match.group(2)\n",
    "                    \n",
    "                    # Clean up metadata for JSON parsing\n",
    "                    metadata_str = metadata_str.replace(\"'\", '\"')\n",
    "                    metadata = json.loads(metadata_str)\n",
    "                    \n",
    "                    if page_content.strip():  # Only add if content is not empty\n",
    "                        documents.append({\n",
    "                            'source': metadata.get('source', 'AI RAG'),\n",
    "                            'content': page_content,\n",
    "                            'score': metadata.get('relevance_score', metadata.get('score', 1.0))\n",
    "                        })\n",
    "                except Exception as e:\n",
    "                    print(f\"Error parsing individual document: {str(e)}\")\n",
    "                    continue\n",
    "                    \n",
    "            print(f\"Successfully parsed {len(documents)} AI RAG documents\")\n",
    "            return documents\n",
    "\n",
    "        except Exception as e:\n",
    "            print(f\"Error parsing AI RAG results: {str(e)}\")\n",
    "            return []\n",
    "\n",
    "    @staticmethod\n",
    "    def parse_arxiv_results(content: str) -> List[Dict]:\n",
    "        \"\"\"Parse arxiv results from content string.\"\"\"\n",
    "        try:\n",
    "            papers = []\n",
    "            \n",
    "            # Check if content is empty or too short\n",
    "            if not content or len(content.strip()) < 10:\n",
    "                return []\n",
    "            \n",
    "            # Split by common arxiv result delimiters\n",
    "            sections = re.split(r'(?=Published: \\d{4})', content)\n",
    "            \n",
    "            for section in sections:\n",
    "                if not section.strip() or len(section) < 20:\n",
    "                    continue\n",
    "\n",
    "                # Extract paper details with more flexible patterns\n",
    "                date_match = re.search(r'Published: (\\d{4}-\\d{2}-\\d{2})', section)\n",
    "                title_match = re.search(r'Title: ([^\\n]+)', section)\n",
    "                authors_match = re.search(r'Authors: ([^\\n]+)', section)\n",
    "                summary_match = re.search(r'Summary: (.+?)(?=Published:|$)', section, re.DOTALL)\n",
    "\n",
    "                if title_match and (summary_match or authors_match):\n",
    "                    summary_text = summary_match.group(1).strip() if summary_match else ''\n",
    "                    \n",
    "                    if summary_text or (title_match and authors_match):  # Accept if we have summary OR title+authors\n",
    "                        paper = {\n",
    "                            'date': date_match.group(1) if date_match else 'Unknown',\n",
    "                            'title': title_match.group(1).strip(),\n",
    "                            'authors': authors_match.group(1).strip() if authors_match else 'Unknown',\n",
    "                            'summary': summary_text if summary_text else f\"Paper by {authors_match.group(1).strip() if authors_match else 'Unknown'}\"\n",
    "                        }\n",
    "                        papers.append(paper)\n",
    "\n",
    "            return papers\n",
    "        except Exception as e:\n",
    "            print(f\"Error parsing arXiv results: {str(e)}\")\n",
    "            return []\n",
    "\n",
    "def parse_tool_call(message: Any) -> List[Dict]:\n",
    "    \"\"\"Parse tool call results from a conversation message.\"\"\"\n",
    "    parser = ContextParser()\n",
    "\n",
    "    print(\"\\n=== Starting message parsing ===\")\n",
    "    print(f\"Message type: {type(message)}\")\n",
    "\n",
    "    # Detect tool type\n",
    "    tool_type = parser.detect_tool_type(message)\n",
    "    print(f\"Detected tool type: {tool_type}\")\n",
    "\n",
    "    if tool_type is None:\n",
    "        print(\"Could not detect tool type\")\n",
    "        return []\n",
    "\n",
    "    # Extract content\n",
    "    content = parser.extract_content(message)\n",
    "    if content is None:\n",
    "        print(\"Could not extract content\")\n",
    "        return []\n",
    "\n",
    "    print(f\"Extracted content length: {len(content) if content else 0}\")\n",
    "\n",
    "    # Parse based on tool type\n",
    "    results = []\n",
    "    if tool_type == 'tavily':\n",
    "        results = parser.parse_tavily_results(content)\n",
    "        print(f\"Parsed {len(results)} Tavily results\")\n",
    "    elif tool_type == 'ai_rag':\n",
    "        results = parser.parse_ai_rag_results(content)\n",
    "        print(f\"Parsed {len(results)} AI RAG results\")\n",
    "    elif tool_type == 'arxiv':\n",
    "        results = parser.parse_arxiv_results(content)\n",
    "        print(f\"Parsed {len(results)} arXiv results\")\n",
    "\n",
    "    return results"
   ]
  },
  {
   "cell_type": "code",
   "execution_count": 283,
   "metadata": {},
   "outputs": [
    {
     "name": "stdout",
     "output_type": "stream",
     "text": [
      "\n",
      "\n",
      "Processing row 0: As an aspiring data engineer interested in the aut...\n",
      "Found tool message: ai_job_rag_tool\n",
      "Found tool message: tavily_search_results_json\n",
      "\n",
      "=== Starting message parsing ===\n",
      "Message type: <class 'langchain_core.messages.tool.ToolMessage'>\n",
      "Found tool name: ai_job_rag_tool\n",
      "Detected tool type: None\n",
      "Could not detect tool type\n",
      "\n",
      "=== Starting message parsing ===\n",
      "Message type: <class 'langchain_core.messages.tool.ToolMessage'>\n",
      "Found tool name: tavily_search_results_json\n",
      "Detected tool type: tavily\n",
      "Extracted content length: 6666\n",
      "Parsed 5 Tavily results\n",
      "Total contexts collected: 5\n",
      "Final context count for row 0: 5\n",
      "\n",
      "\n",
      "Processing row 1: As an aspiring data engineer, how is AWS relevant ...\n",
      "Found tool message: ai_job_rag_tool\n",
      "\n",
      "=== Starting message parsing ===\n",
      "Message type: <class 'langchain_core.messages.tool.ToolMessage'>\n",
      "Found tool name: ai_job_rag_tool\n",
      "Detected tool type: None\n",
      "Could not detect tool type\n",
      "WARNING: No contexts found, using response as fallback\n",
      "Final context count for row 1: 1\n",
      "\n",
      "\n",
      "Processing row 2: What is the required education for the AI Speciali...\n",
      "Found tool message: ai_job_rag_tool\n",
      "\n",
      "=== Starting message parsing ===\n",
      "Message type: <class 'langchain_core.messages.tool.ToolMessage'>\n",
      "Found tool name: ai_job_rag_tool\n",
      "Detected tool type: None\n",
      "Could not detect tool type\n",
      "WARNING: No contexts found, using response as fallback\n",
      "Final context count for row 2: 1\n",
      "\n",
      "\n",
      "Processing row 3: What are the oppurtunities at Future Systems for a...\n",
      "Found tool message: ai_job_rag_tool\n",
      "\n",
      "=== Starting message parsing ===\n",
      "Message type: <class 'langchain_core.messages.tool.ToolMessage'>\n",
      "Found tool name: ai_job_rag_tool\n",
      "Detected tool type: None\n",
      "Could not detect tool type\n",
      "WARNING: No contexts found, using response as fallback\n",
      "Final context count for row 3: 1\n",
      "\n",
      "\n",
      "Processing row 4: France job?...\n",
      "WARNING: No contexts found, using response as fallback\n",
      "Final context count for row 4: 1\n",
      "\n",
      "\n",
      "Processing row 5: Wht is the job in Austrailia that requiers skills ...\n",
      "Found tool message: ai_job_rag_tool\n",
      "\n",
      "=== Starting message parsing ===\n",
      "Message type: <class 'langchain_core.messages.tool.ToolMessage'>\n",
      "Found tool name: ai_job_rag_tool\n",
      "Detected tool type: None\n",
      "Could not detect tool type\n",
      "WARNING: No contexts found, using response as fallback\n",
      "Final context count for row 5: 1\n",
      "\n",
      "\n",
      "Processing row 6: Considering the roles of a Research Scientist and ...\n",
      "Found tool message: ai_job_rag_tool\n",
      "Found tool message: ai_job_rag_tool\n",
      "\n",
      "=== Starting message parsing ===\n",
      "Message type: <class 'langchain_core.messages.tool.ToolMessage'>\n",
      "Found tool name: ai_job_rag_tool\n",
      "Detected tool type: None\n",
      "Could not detect tool type\n",
      "\n",
      "=== Starting message parsing ===\n",
      "Message type: <class 'langchain_core.messages.tool.ToolMessage'>\n",
      "Found tool name: ai_job_rag_tool\n",
      "Detected tool type: None\n",
      "Could not detect tool type\n",
      "WARNING: No contexts found, using response as fallback\n",
      "Final context count for row 6: 1\n",
      "\n",
      "\n",
      "Processing row 7: Considering the opportunities available in India f...\n",
      "Found tool message: ai_job_rag_tool\n",
      "Found tool message: ai_job_rag_tool\n",
      "\n",
      "=== Starting message parsing ===\n",
      "Message type: <class 'langchain_core.messages.tool.ToolMessage'>\n",
      "Found tool name: ai_job_rag_tool\n",
      "Detected tool type: None\n",
      "Could not detect tool type\n",
      "\n",
      "=== Starting message parsing ===\n",
      "Message type: <class 'langchain_core.messages.tool.ToolMessage'>\n",
      "Found tool name: ai_job_rag_tool\n",
      "Detected tool type: None\n",
      "Could not detect tool type\n",
      "WARNING: No contexts found, using response as fallback\n",
      "Final context count for row 7: 1\n",
      "\n",
      "\n",
      "Processing row 8: Considering the roles of a ML Ops Engineer at Futu...\n",
      "Found tool message: ai_job_rag_tool\n",
      "Found tool message: ai_job_rag_tool\n",
      "\n",
      "=== Starting message parsing ===\n",
      "Message type: <class 'langchain_core.messages.tool.ToolMessage'>\n",
      "Found tool name: ai_job_rag_tool\n",
      "Detected tool type: None\n",
      "Could not detect tool type\n",
      "\n",
      "=== Starting message parsing ===\n",
      "Message type: <class 'langchain_core.messages.tool.ToolMessage'>\n",
      "Found tool name: ai_job_rag_tool\n",
      "Detected tool type: None\n",
      "Could not detect tool type\n",
      "WARNING: No contexts found, using response as fallback\n",
      "Final context count for row 8: 1\n",
      "\n",
      "\n",
      "Processing row 9: so if i want to be a data scientist in real estate...\n",
      "Found tool message: ai_job_rag_tool\n",
      "Found tool message: ai_job_rag_tool\n",
      "Found tool message: ai_job_rag_tool\n",
      "\n",
      "=== Starting message parsing ===\n",
      "Message type: <class 'langchain_core.messages.tool.ToolMessage'>\n",
      "Found tool name: ai_job_rag_tool\n",
      "Detected tool type: None\n",
      "Could not detect tool type\n",
      "\n",
      "=== Starting message parsing ===\n",
      "Message type: <class 'langchain_core.messages.tool.ToolMessage'>\n",
      "Found tool name: ai_job_rag_tool\n",
      "Detected tool type: None\n",
      "Could not detect tool type\n",
      "\n",
      "=== Starting message parsing ===\n",
      "Message type: <class 'langchain_core.messages.tool.ToolMessage'>\n",
      "Found tool name: ai_job_rag_tool\n",
      "Detected tool type: None\n",
      "Could not detect tool type\n",
      "WARNING: No contexts found, using response as fallback\n",
      "Final context count for row 9: 1\n"
     ]
    }
   ],
   "source": [
    "for idx, test_row in enumerate(dataset):\n",
    "    print(f\"\\n\\nProcessing row {idx}: {test_row.user_input[:50]}...\")\n",
    "    \n",
    "    inputs = {\"messages\": [HumanMessage(content=test_row.user_input)]}\n",
    "    response = compiled_graph.invoke(inputs)\n",
    "    test_row.response = response[\"messages\"][-1].content\n",
    "\n",
    "    # Initialize with empty list\n",
    "    test_row.retrieved_contexts = []\n",
    "    \n",
    "    # Find all ToolMessages in the response\n",
    "    tool_messages = []\n",
    "    for msg in response[\"messages\"]:\n",
    "        # Check if it's a ToolMessage by looking for the 'name' attribute\n",
    "        if hasattr(msg, 'name') and msg.name is not None:\n",
    "            tool_messages.append(msg)\n",
    "            print(f\"Found tool message: {msg.name}\")\n",
    "    \n",
    "    # Process all tool messages to gather contexts\n",
    "    all_contexts = []\n",
    "    for tool_message in tool_messages:\n",
    "        results = parse_tool_call(tool_message)\n",
    "        \n",
    "        # Extract only the text content from the results if we have any\n",
    "        if results:\n",
    "            if isinstance(results[0], dict):\n",
    "                # For Tavily and AI RAG results\n",
    "                if 'content' in results[0]:\n",
    "                    contexts = [r['content'] for r in results if r.get('content')]\n",
    "                    all_contexts.extend(contexts)\n",
    "                # For arXiv results\n",
    "                elif 'summary' in results[0]:\n",
    "                    contexts = [r['summary'] for r in results if r.get('summary')]\n",
    "                    all_contexts.extend(contexts)\n",
    "            else:\n",
    "                # If results are already strings\n",
    "                all_contexts.extend([r for r in results if r])\n",
    "    \n",
    "    # Use all collected contexts\n",
    "    if all_contexts:\n",
    "        test_row.retrieved_contexts = all_contexts\n",
    "        print(f\"Total contexts collected: {len(all_contexts)}\")\n",
    "    else:\n",
    "        # Fallback: If no contexts found, use the response itself as context\n",
    "        print(\"WARNING: No contexts found, using response as fallback\")\n",
    "        test_row.retrieved_contexts = [test_row.response]\n",
    "    \n",
    "    print(f\"Final context count for row {idx}: {len(test_row.retrieved_contexts)}\")"
   ]
  },
  {
   "cell_type": "markdown",
   "metadata": {},
   "source": [
    "## Evaluation Setup\n",
    "Setting up RAGAS evaluation framework with LLM wrappers for systematic assessment of the AI assistant's performance."
   ]
  },
  {
   "cell_type": "code",
   "execution_count": 284,
   "metadata": {},
   "outputs": [
    {
     "name": "stdout",
     "output_type": "stream",
     "text": [
      "=== Response Messages ===\n",
      "\n",
      "Message 0: HumanMessage\n",
      "Content preview: What skills do I need to become a data scientist?...\n",
      "Tool name: None\n",
      "\n",
      "Message 1: AIMessage\n",
      "Content preview: ...\n",
      "Tool name: None\n",
      "Has tool calls: [{'name': 'ai_job_rag_tool', 'args': {'question': 'What skills do I need to become a data scientist?'}, 'id': 'call_8cKDTPm53SxvG5kqdQWXMSZF', 'type': 'tool_call'}]\n",
      "\n",
      "Message 2: ToolMessage\n",
      "Content preview: {'messages': [HumanMessage(content='To become a data scientist, the required skills include Python, GCP (Google Cloud Platform), Scala, Tableau, and Git.', additional_kwargs={}, response_metadata={})]...\n",
      "Tool name: ai_job_rag_tool\n",
      "\n",
      "Message 3: AIMessage\n",
      "Content preview: To become a data scientist, you should focus on developing the following skills:\n",
      "\n",
      "1. **Programming Languages**: Proficiency in Python and R is essential for data manipulation and analysis.\n",
      "2. **Data V...\n",
      "Tool name: None\n",
      "Has tool calls: []\n"
     ]
    }
   ],
   "source": [
    "# Debug: Let's examine the actual tool message structure for one example\n",
    "test_input = \"What skills do I need to become a data scientist?\"\n",
    "inputs = {\"messages\": [HumanMessage(content=test_input)]}\n",
    "response = compiled_graph.invoke(inputs)\n",
    "\n",
    "print(\"=== Response Messages ===\")\n",
    "for i, msg in enumerate(response[\"messages\"]):\n",
    "    print(f\"\\nMessage {i}: {type(msg).__name__}\")\n",
    "    if hasattr(msg, 'content'):\n",
    "        print(f\"Content preview: {str(msg.content)[:200]}...\")\n",
    "    if hasattr(msg, 'name'):\n",
    "        print(f\"Tool name: {msg.name}\")\n",
    "    if hasattr(msg, 'tool_calls'):\n",
    "        print(f\"Has tool calls: {msg.tool_calls}\")"
   ]
  },
  {
   "cell_type": "markdown",
   "metadata": {},
   "source": [
    "## Enhanced RAG with Cohere Reranking\n",
    "Implementing an improved version of our RAG system using Cohere's rerank-v3.5 model to better prioritize retrieved documents for more accurate responses."
   ]
  },
  {
   "cell_type": "code",
   "execution_count": 285,
   "metadata": {},
   "outputs": [
    {
     "name": "stdout",
     "output_type": "stream",
     "text": [
      "\n",
      "\n",
      "Processing row 0: As an aspiring data engineer interested in the aut...\n",
      "Found tool message: ai_job_rag_tool\n",
      "Found tool message: tavily_search_results_json\n",
      "\n",
      "=== Starting message parsing ===\n",
      "Message type: <class 'langchain_core.messages.tool.ToolMessage'>\n",
      "Found tool name: ai_job_rag_tool\n",
      "Detected tool type: None\n",
      "Could not detect tool type\n",
      "\n",
      "=== Starting message parsing ===\n",
      "Message type: <class 'langchain_core.messages.tool.ToolMessage'>\n",
      "Found tool name: tavily_search_results_json\n",
      "Detected tool type: tavily\n",
      "Extracted content length: 7127\n",
      "Parsed 5 Tavily results\n",
      "Total contexts collected: 5\n",
      "Final context count for row 0: 5\n",
      "\n",
      "\n",
      "Processing row 1: As an aspiring data engineer, how is AWS relevant ...\n",
      "Found tool message: ai_job_rag_tool\n",
      "\n",
      "=== Starting message parsing ===\n",
      "Message type: <class 'langchain_core.messages.tool.ToolMessage'>\n",
      "Found tool name: ai_job_rag_tool\n",
      "Detected tool type: None\n",
      "Could not detect tool type\n",
      "WARNING: No contexts found, using response as fallback\n",
      "Final context count for row 1: 1\n",
      "\n",
      "\n",
      "Processing row 2: What is the required education for the AI Speciali...\n",
      "Found tool message: ai_job_rag_tool\n",
      "\n",
      "=== Starting message parsing ===\n",
      "Message type: <class 'langchain_core.messages.tool.ToolMessage'>\n",
      "Found tool name: ai_job_rag_tool\n",
      "Detected tool type: None\n",
      "Could not detect tool type\n",
      "WARNING: No contexts found, using response as fallback\n",
      "Final context count for row 2: 1\n",
      "\n",
      "\n",
      "Processing row 3: What are the oppurtunities at Future Systems for a...\n",
      "Found tool message: ai_job_rag_tool\n",
      "\n",
      "=== Starting message parsing ===\n",
      "Message type: <class 'langchain_core.messages.tool.ToolMessage'>\n",
      "Found tool name: ai_job_rag_tool\n",
      "Detected tool type: None\n",
      "Could not detect tool type\n",
      "WARNING: No contexts found, using response as fallback\n",
      "Final context count for row 3: 1\n",
      "\n",
      "\n",
      "Processing row 4: France job?...\n",
      "WARNING: No contexts found, using response as fallback\n",
      "Final context count for row 4: 1\n",
      "\n",
      "\n",
      "Processing row 5: Wht is the job in Austrailia that requiers skills ...\n",
      "Found tool message: ai_job_rag_tool\n",
      "\n",
      "=== Starting message parsing ===\n",
      "Message type: <class 'langchain_core.messages.tool.ToolMessage'>\n",
      "Found tool name: ai_job_rag_tool\n",
      "Detected tool type: None\n",
      "Could not detect tool type\n",
      "WARNING: No contexts found, using response as fallback\n",
      "Final context count for row 5: 1\n",
      "\n",
      "\n",
      "Processing row 6: Considering the roles of a Research Scientist and ...\n",
      "Found tool message: ai_job_rag_tool\n",
      "Found tool message: ai_job_rag_tool\n",
      "Found tool message: tavily_search_results_json\n",
      "\n",
      "=== Starting message parsing ===\n",
      "Message type: <class 'langchain_core.messages.tool.ToolMessage'>\n",
      "Found tool name: ai_job_rag_tool\n",
      "Detected tool type: None\n",
      "Could not detect tool type\n",
      "\n",
      "=== Starting message parsing ===\n",
      "Message type: <class 'langchain_core.messages.tool.ToolMessage'>\n",
      "Found tool name: ai_job_rag_tool\n",
      "Detected tool type: None\n",
      "Could not detect tool type\n",
      "\n",
      "=== Starting message parsing ===\n",
      "Message type: <class 'langchain_core.messages.tool.ToolMessage'>\n",
      "Found tool name: tavily_search_results_json\n",
      "Detected tool type: tavily\n",
      "Extracted content length: 6814\n",
      "Parsed 5 Tavily results\n",
      "Total contexts collected: 5\n",
      "Final context count for row 6: 5\n",
      "\n",
      "\n",
      "Processing row 7: Considering the opportunities available in India f...\n",
      "Found tool message: ai_job_rag_tool\n",
      "Found tool message: ai_job_rag_tool\n",
      "\n",
      "=== Starting message parsing ===\n",
      "Message type: <class 'langchain_core.messages.tool.ToolMessage'>\n",
      "Found tool name: ai_job_rag_tool\n",
      "Detected tool type: None\n",
      "Could not detect tool type\n",
      "\n",
      "=== Starting message parsing ===\n",
      "Message type: <class 'langchain_core.messages.tool.ToolMessage'>\n",
      "Found tool name: ai_job_rag_tool\n",
      "Detected tool type: None\n",
      "Could not detect tool type\n",
      "WARNING: No contexts found, using response as fallback\n",
      "Final context count for row 7: 1\n",
      "\n",
      "\n",
      "Processing row 8: Considering the roles of a ML Ops Engineer at Futu...\n",
      "Found tool message: ai_job_rag_tool\n",
      "Found tool message: ai_job_rag_tool\n",
      "\n",
      "=== Starting message parsing ===\n",
      "Message type: <class 'langchain_core.messages.tool.ToolMessage'>\n",
      "Found tool name: ai_job_rag_tool\n",
      "Detected tool type: None\n",
      "Could not detect tool type\n",
      "\n",
      "=== Starting message parsing ===\n",
      "Message type: <class 'langchain_core.messages.tool.ToolMessage'>\n",
      "Found tool name: ai_job_rag_tool\n",
      "Detected tool type: None\n",
      "Could not detect tool type\n",
      "WARNING: No contexts found, using response as fallback\n",
      "Final context count for row 8: 1\n",
      "\n",
      "\n",
      "Processing row 9: so if i want to be a data scientist in real estate...\n",
      "Found tool message: ai_job_rag_tool\n",
      "Found tool message: ai_job_rag_tool\n",
      "Found tool message: ai_job_rag_tool\n",
      "\n",
      "=== Starting message parsing ===\n",
      "Message type: <class 'langchain_core.messages.tool.ToolMessage'>\n",
      "Found tool name: ai_job_rag_tool\n",
      "Detected tool type: None\n",
      "Could not detect tool type\n",
      "\n",
      "=== Starting message parsing ===\n",
      "Message type: <class 'langchain_core.messages.tool.ToolMessage'>\n",
      "Found tool name: ai_job_rag_tool\n",
      "Detected tool type: None\n",
      "Could not detect tool type\n",
      "\n",
      "=== Starting message parsing ===\n",
      "Message type: <class 'langchain_core.messages.tool.ToolMessage'>\n",
      "Found tool name: ai_job_rag_tool\n",
      "Detected tool type: None\n",
      "Could not detect tool type\n",
      "WARNING: No contexts found, using response as fallback\n",
      "Final context count for row 9: 1\n"
     ]
    }
   ],
   "source": [
    "for idx, test_row in enumerate(dataset):\n",
    "    print(f\"\\n\\nProcessing row {idx}: {test_row.user_input[:50]}...\")\n",
    "    \n",
    "    inputs = {\"messages\": [HumanMessage(content=test_row.user_input)]}\n",
    "    response = compiled_graph.invoke(inputs)\n",
    "    test_row.response = response[\"messages\"][-1].content\n",
    "\n",
    "    # Initialize with empty list\n",
    "    test_row.retrieved_contexts = []\n",
    "    \n",
    "    # Find all ToolMessages in the response\n",
    "    tool_messages = []\n",
    "    for msg in response[\"messages\"]:\n",
    "        # Check if it's a ToolMessage by looking for the 'name' attribute\n",
    "        if hasattr(msg, 'name') and msg.name is not None:\n",
    "            tool_messages.append(msg)\n",
    "            print(f\"Found tool message: {msg.name}\")\n",
    "    \n",
    "    # Process all tool messages to gather contexts\n",
    "    all_contexts = []\n",
    "    for tool_message in tool_messages:\n",
    "        results = parse_tool_call(tool_message)\n",
    "        \n",
    "        # Extract only the text content from the results if we have any\n",
    "        if results:\n",
    "            if isinstance(results[0], dict):\n",
    "                # For Tavily and AI RAG results\n",
    "                if 'content' in results[0]:\n",
    "                    contexts = [r['content'] for r in results if r.get('content')]\n",
    "                    all_contexts.extend(contexts)\n",
    "                # For arXiv results\n",
    "                elif 'summary' in results[0]:\n",
    "                    contexts = [r['summary'] for r in results if r.get('summary')]\n",
    "                    all_contexts.extend(contexts)\n",
    "            else:\n",
    "                # If results are already strings\n",
    "                all_contexts.extend([r for r in results if r])\n",
    "    \n",
    "    # Use all collected contexts\n",
    "    if all_contexts:\n",
    "        test_row.retrieved_contexts = all_contexts\n",
    "        print(f\"Total contexts collected: {len(all_contexts)}\")\n",
    "    else:\n",
    "        # Fallback: If no contexts found, use the response itself as context\n",
    "        print(\"WARNING: No contexts found, using response as fallback\")\n",
    "        test_row.retrieved_contexts = [test_row.response]\n",
    "    \n",
    "    print(f\"Final context count for row {idx}: {len(test_row.retrieved_contexts)}\")"
   ]
  },
  {
   "cell_type": "code",
   "execution_count": 286,
   "metadata": {},
   "outputs": [
    {
     "data": {
      "text/html": [
       "<div>\n",
       "<style scoped>\n",
       "    .dataframe tbody tr th:only-of-type {\n",
       "        vertical-align: middle;\n",
       "    }\n",
       "\n",
       "    .dataframe tbody tr th {\n",
       "        vertical-align: top;\n",
       "    }\n",
       "\n",
       "    .dataframe thead th {\n",
       "        text-align: right;\n",
       "    }\n",
       "</style>\n",
       "<table border=\"1\" class=\"dataframe\">\n",
       "  <thead>\n",
       "    <tr style=\"text-align: right;\">\n",
       "      <th></th>\n",
       "      <th>user_input</th>\n",
       "      <th>retrieved_contexts</th>\n",
       "      <th>reference_contexts</th>\n",
       "      <th>response</th>\n",
       "      <th>reference</th>\n",
       "    </tr>\n",
       "  </thead>\n",
       "  <tbody>\n",
       "    <tr>\n",
       "      <th>0</th>\n",
       "      <td>As an aspiring data engineer interested in the...</td>\n",
       "      <td>[Advanced Driver Assistance Systems (ADAS) rep...</td>\n",
       "      <td>[job_id: AI00001\\njob_title: AI Research Scien...</td>\n",
       "      <td>### Skills Required for AI Research Scientist ...</td>\n",
       "      <td>The position at Smart Analytics is within the ...</td>\n",
       "    </tr>\n",
       "    <tr>\n",
       "      <th>1</th>\n",
       "      <td>As an aspiring data engineer, how is AWS relev...</td>\n",
       "      <td>[AWS is relevant to the role of an AI Software...</td>\n",
       "      <td>[job_id: AI00002\\njob_title: AI Software Engin...</td>\n",
       "      <td>AWS is relevant to the role of an AI Software ...</td>\n",
       "      <td>In the context of the AI Software Engineer pos...</td>\n",
       "    </tr>\n",
       "    <tr>\n",
       "      <th>2</th>\n",
       "      <td>What is the required education for the AI Spec...</td>\n",
       "      <td>[The required education for the AI Specialist ...</td>\n",
       "      <td>[job_id: AI00003\\njob_title: AI Specialist\\nsa...</td>\n",
       "      <td>The required education for the AI Specialist r...</td>\n",
       "      <td>The required education for the AI Specialist r...</td>\n",
       "    </tr>\n",
       "    <tr>\n",
       "      <th>3</th>\n",
       "      <td>What are the oppurtunities at Future Systems f...</td>\n",
       "      <td>[Future Systems offers several opportunities f...</td>\n",
       "      <td>[job_id: AI00004\\njob_title: NLP Engineer\\nsal...</td>\n",
       "      <td>Future Systems offers several opportunities fo...</td>\n",
       "      <td>The context provides information about a job p...</td>\n",
       "    </tr>\n",
       "    <tr>\n",
       "      <th>4</th>\n",
       "      <td>France job?</td>\n",
       "      <td>[Could you please provide more details about w...</td>\n",
       "      <td>[job_id: AI00005\\njob_title: AI Consultant\\nsa...</td>\n",
       "      <td>Could you please provide more details about wh...</td>\n",
       "      <td>The job is located in France at Advanced Robot...</td>\n",
       "    </tr>\n",
       "    <tr>\n",
       "      <th>5</th>\n",
       "      <td>Wht is the job in Austrailia that requiers ski...</td>\n",
       "      <td>[The job in Australia that requires skills in ...</td>\n",
       "      <td>[&lt;1-hop&gt;\\n\\njob_id: AI00028\\njob_title: Data A...</td>\n",
       "      <td>The job in Australia that requires skills in H...</td>\n",
       "      <td>The job in Austrailia is for a ML Ops Engineer...</td>\n",
       "    </tr>\n",
       "    <tr>\n",
       "      <th>6</th>\n",
       "      <td>Considering the roles of a Research Scientist ...</td>\n",
       "      <td>[1. Data Analysis: Real estate data is often c...</td>\n",
       "      <td>[&lt;1-hop&gt;\\n\\njob_id: AI00032\\njob_title: Resear...</td>\n",
       "      <td>### Python in Research Scientist Roles\\n\\nPyth...</td>\n",
       "      <td>Both the Research Scientist position at Cloud ...</td>\n",
       "    </tr>\n",
       "    <tr>\n",
       "      <th>7</th>\n",
       "      <td>Considering the opportunities available in Ind...</td>\n",
       "      <td>[Here's a comparison of the roles of ML Ops En...</td>\n",
       "      <td>[&lt;1-hop&gt;\\n\\njob_id: AI00027\\njob_title: ML Ops...</td>\n",
       "      <td>Here's a comparison of the roles of ML Ops Eng...</td>\n",
       "      <td>The ML Ops Engineer position at TechCorp Inc i...</td>\n",
       "    </tr>\n",
       "    <tr>\n",
       "      <th>8</th>\n",
       "      <td>Considering the roles of a ML Ops Engineer at ...</td>\n",
       "      <td>[### ML Ops Engineer at Future Systems\\n\\nProf...</td>\n",
       "      <td>[&lt;1-hop&gt;\\n\\njob_id: AI00045\\njob_title: ML Ops...</td>\n",
       "      <td>### ML Ops Engineer at Future Systems\\n\\nProfi...</td>\n",
       "      <td>Proficiency in Docker is crucial for both the ...</td>\n",
       "    </tr>\n",
       "    <tr>\n",
       "      <th>9</th>\n",
       "      <td>so if i want to be a data scientist in real es...</td>\n",
       "      <td>[To become a data scientist in the real estate...</td>\n",
       "      <td>[&lt;1-hop&gt;\\n\\njob_id: AI00032\\njob_title: Resear...</td>\n",
       "      <td>To become a data scientist in the real estate ...</td>\n",
       "      <td>Based on the context, if you want to be a data...</td>\n",
       "    </tr>\n",
       "  </tbody>\n",
       "</table>\n",
       "</div>"
      ],
      "text/plain": [
       "                                          user_input  \\\n",
       "0  As an aspiring data engineer interested in the...   \n",
       "1  As an aspiring data engineer, how is AWS relev...   \n",
       "2  What is the required education for the AI Spec...   \n",
       "3  What are the oppurtunities at Future Systems f...   \n",
       "4                                        France job?   \n",
       "5  Wht is the job in Austrailia that requiers ski...   \n",
       "6  Considering the roles of a Research Scientist ...   \n",
       "7  Considering the opportunities available in Ind...   \n",
       "8  Considering the roles of a ML Ops Engineer at ...   \n",
       "9  so if i want to be a data scientist in real es...   \n",
       "\n",
       "                                  retrieved_contexts  \\\n",
       "0  [Advanced Driver Assistance Systems (ADAS) rep...   \n",
       "1  [AWS is relevant to the role of an AI Software...   \n",
       "2  [The required education for the AI Specialist ...   \n",
       "3  [Future Systems offers several opportunities f...   \n",
       "4  [Could you please provide more details about w...   \n",
       "5  [The job in Australia that requires skills in ...   \n",
       "6  [1. Data Analysis: Real estate data is often c...   \n",
       "7  [Here's a comparison of the roles of ML Ops En...   \n",
       "8  [### ML Ops Engineer at Future Systems\\n\\nProf...   \n",
       "9  [To become a data scientist in the real estate...   \n",
       "\n",
       "                                  reference_contexts  \\\n",
       "0  [job_id: AI00001\\njob_title: AI Research Scien...   \n",
       "1  [job_id: AI00002\\njob_title: AI Software Engin...   \n",
       "2  [job_id: AI00003\\njob_title: AI Specialist\\nsa...   \n",
       "3  [job_id: AI00004\\njob_title: NLP Engineer\\nsal...   \n",
       "4  [job_id: AI00005\\njob_title: AI Consultant\\nsa...   \n",
       "5  [<1-hop>\\n\\njob_id: AI00028\\njob_title: Data A...   \n",
       "6  [<1-hop>\\n\\njob_id: AI00032\\njob_title: Resear...   \n",
       "7  [<1-hop>\\n\\njob_id: AI00027\\njob_title: ML Ops...   \n",
       "8  [<1-hop>\\n\\njob_id: AI00045\\njob_title: ML Ops...   \n",
       "9  [<1-hop>\\n\\njob_id: AI00032\\njob_title: Resear...   \n",
       "\n",
       "                                            response  \\\n",
       "0  ### Skills Required for AI Research Scientist ...   \n",
       "1  AWS is relevant to the role of an AI Software ...   \n",
       "2  The required education for the AI Specialist r...   \n",
       "3  Future Systems offers several opportunities fo...   \n",
       "4  Could you please provide more details about wh...   \n",
       "5  The job in Australia that requires skills in H...   \n",
       "6  ### Python in Research Scientist Roles\\n\\nPyth...   \n",
       "7  Here's a comparison of the roles of ML Ops Eng...   \n",
       "8  ### ML Ops Engineer at Future Systems\\n\\nProfi...   \n",
       "9  To become a data scientist in the real estate ...   \n",
       "\n",
       "                                           reference  \n",
       "0  The position at Smart Analytics is within the ...  \n",
       "1  In the context of the AI Software Engineer pos...  \n",
       "2  The required education for the AI Specialist r...  \n",
       "3  The context provides information about a job p...  \n",
       "4  The job is located in France at Advanced Robot...  \n",
       "5  The job in Austrailia is for a ML Ops Engineer...  \n",
       "6  Both the Research Scientist position at Cloud ...  \n",
       "7  The ML Ops Engineer position at TechCorp Inc i...  \n",
       "8  Proficiency in Docker is crucial for both the ...  \n",
       "9  Based on the context, if you want to be a data...  "
      ]
     },
     "execution_count": 286,
     "metadata": {},
     "output_type": "execute_result"
    }
   ],
   "source": [
    "dataset.to_pandas()"
   ]
  },
  {
   "cell_type": "code",
   "execution_count": 287,
   "metadata": {},
   "outputs": [],
   "source": [
    "from ragas import EvaluationDataset\n",
    "evaluation_dataset = EvaluationDataset.from_pandas(dataset.to_pandas())"
   ]
  },
  {
   "cell_type": "code",
   "execution_count": 288,
   "metadata": {},
   "outputs": [],
   "source": [
    "from ragas import evaluate\n",
    "from ragas.llms import LangchainLLMWrapper\n",
    "\n",
    "evaluator_llm = LangchainLLMWrapper(ChatOpenAI(model=\"gpt-4.1-mini\"))"
   ]
  },
  {
   "cell_type": "code",
   "execution_count": 289,
   "metadata": {},
   "outputs": [
    {
     "data": {
      "application/vnd.jupyter.widget-view+json": {
       "model_id": "543aca53317c4b7289179e5a55ebfcb2",
       "version_major": 2,
       "version_minor": 0
      },
      "text/plain": [
       "Evaluating:   0%|          | 0/60 [00:00<?, ?it/s]"
      ]
     },
     "metadata": {},
     "output_type": "display_data"
    },
    {
     "name": "stderr",
     "output_type": "stream",
     "text": [
      "Exception raised in Job[53]: AttributeError('StringIO' object has no attribute 'statements')\n",
      "Exception raised in Job[5]: TimeoutError()\n"
     ]
    },
    {
     "data": {
      "text/plain": [
       "{'context_recall': 0.3333, 'faithfulness': 0.9261, 'factual_correctness': 0.4320, 'answer_relevancy': 0.8623, 'context_entity_recall': 0.4540, 'noise_sensitivity_relevant': 0.4740}"
      ]
     },
     "execution_count": 289,
     "metadata": {},
     "output_type": "execute_result"
    }
   ],
   "source": [
    "from ragas.metrics import LLMContextRecall, Faithfulness, FactualCorrectness, ResponseRelevancy, ContextEntityRecall, NoiseSensitivity\n",
    "from ragas import evaluate, RunConfig\n",
    "\n",
    "custom_run_config = RunConfig(timeout=360)\n",
    "\n",
    "result = evaluate(\n",
    "    dataset=evaluation_dataset,\n",
    "    metrics=[LLMContextRecall(), Faithfulness(), FactualCorrectness(), ResponseRelevancy(), ContextEntityRecall(), NoiseSensitivity()],\n",
    "    llm=evaluator_llm,\n",
    "    run_config=custom_run_config\n",
    ")\n",
    "result"
   ]
  },
  {
   "cell_type": "code",
   "execution_count": 290,
   "metadata": {},
   "outputs": [],
   "source": [
    "from langchain.retrievers.contextual_compression import ContextualCompressionRetriever\n",
    "from langchain_cohere import CohereRerank\n",
    "\n",
    "def retrieve_adjusted(state):\n",
    "    compressor = CohereRerank(model=\"rerank-v3.5\", top_n=10)\n",
    "    compression_retriever = ContextualCompressionRetriever(\n",
    "        base_compressor=compressor, \n",
    "        base_retriever=retriever, \n",
    "        search_kwargs={\"k\": 5}\n",
    "    )\n",
    "    retrieved_docs = compression_retriever.invoke(state[\"question\"])\n",
    "    return {\"context\": retrieved_docs}"
   ]
  },
  {
   "cell_type": "code",
   "execution_count": 291,
   "metadata": {},
   "outputs": [],
   "source": [
    "from langchain.prompts import ChatPromptTemplate\n",
    "\n",
    "RAG_PROMPT = \"\"\"\n",
    "You are a helpful assistant who answers questions based on provided context. You must only use the provided context, and cannot use prior knowledge.\n",
    "\n",
    "### Question\n",
    "{question}\n",
    "\n",
    "### Context\n",
    "{context}\n",
    "\"\"\"\n",
    "\n",
    "rag_prompt = ChatPromptTemplate.from_template(RAG_PROMPT)"
   ]
  },
  {
   "cell_type": "code",
   "execution_count": 292,
   "metadata": {},
   "outputs": [],
   "source": [
    "from langchain_openai import ChatOpenAI\n",
    "llm = ChatOpenAI(model=\"gpt-4.1-mini\")"
   ]
  },
  {
   "cell_type": "code",
   "execution_count": 293,
   "metadata": {},
   "outputs": [],
   "source": [
    "def generate(state):\n",
    "    docs_content = \"\\n\\n\".join(doc.page_content for doc in state[\"context\"])\n",
    "    messages = rag_prompt.format_messages(question=state[\"question\"], context=docs_content)\n",
    "    response = llm.invoke(messages)\n",
    "    return {\"response\": response.content}\n"
   ]
  },
  {
   "cell_type": "code",
   "execution_count": 294,
   "metadata": {},
   "outputs": [],
   "source": [
    "graph_builder = StateGraph(State).add_sequence([retrieve_adjusted, generate])\n",
    "graph_builder.add_edge(START, \"retrieve_adjusted\")\n",
    "graph = graph_builder.compile()"
   ]
  },
  {
   "cell_type": "code",
   "execution_count": 295,
   "metadata": {},
   "outputs": [],
   "source": [
    "response = graph.invoke({\"question\": \"What are the top skills needed for machine learning engineer roles?\"})"
   ]
  },
  {
   "cell_type": "code",
   "execution_count": 296,
   "metadata": {},
   "outputs": [],
   "source": [
    "from langchain_core.tools import tool\n",
    "\n",
    "@tool\n",
    "def ai_job_rag_tool(question: str) -> str:\n",
    "    \"\"\"Useful for when you need to answer questions about AI job market, career advice, salary information, and skill requirements. Input should be a fully formed question.\"\"\"\n",
    "    response = graph.invoke({\"question\": question})\n",
    "    return {\n",
    "        \"messages\": [HumanMessage(content=response[\"response\"])],\n",
    "        \"context\": response[\"context\"]\n",
    "    }"
   ]
  },
  {
   "cell_type": "code",
   "execution_count": 297,
   "metadata": {},
   "outputs": [],
   "source": [
    "tool_belt = [\n",
    "    tavily_tool,\n",
    "    arxiv_tool,\n",
    "    ai_job_rag_tool\n",
    "]"
   ]
  },
  {
   "cell_type": "code",
   "execution_count": 298,
   "metadata": {},
   "outputs": [],
   "source": [
    "from langchain_core.tools import tool\n",
    "\n",
    "@tool\n",
    "def ai_job_rag_tool(question: str) -> str:\n",
    "    \"\"\"Useful for when you need to answer questions about AI job market, career advice, salary information, and skill requirements. Input should be a fully formed question.\"\"\"\n",
    "    response = graph.invoke({\"question\": question})\n",
    "    return {\n",
    "        \"messages\": [HumanMessage(content=response[\"response\"])],\n",
    "        \"context\": response[\"context\"]\n",
    "    }"
   ]
  },
  {
   "cell_type": "code",
   "execution_count": 299,
   "metadata": {},
   "outputs": [],
   "source": [
    "tool_belt = [\n",
    "    tavily_tool,\n",
    "    arxiv_tool,\n",
    "    ai_job_rag_tool\n",
    "]"
   ]
  },
  {
   "cell_type": "code",
   "execution_count": 300,
   "metadata": {},
   "outputs": [],
   "source": [
    "from langchain_openai import ChatOpenAI\n",
    "\n",
    "model = ChatOpenAI(model=\"gpt-4o\", temperature=0)"
   ]
  },
  {
   "cell_type": "code",
   "execution_count": 301,
   "metadata": {},
   "outputs": [],
   "source": [
    "model = model.bind_tools(tool_belt)"
   ]
  },
  {
   "cell_type": "code",
   "execution_count": 302,
   "metadata": {},
   "outputs": [],
   "source": [
    "from typing import TypedDict, Annotated\n",
    "from langgraph.graph.message import add_messages\n",
    "import operator\n",
    "from langchain_core.messages import BaseMessage, HumanMessage\n",
    "from langchain_core.documents import Document\n",
    "\n",
    "class AgentState(TypedDict):\n",
    "    messages: Annotated[list, add_messages]\n",
    "    context: list[Document]"
   ]
  },
  {
   "cell_type": "code",
   "execution_count": 303,
   "metadata": {},
   "outputs": [],
   "source": [
    "from langgraph.prebuilt import ToolNode\n",
    "\n",
    "def call_model(state):\n",
    "    messages = state[\"messages\"]\n",
    "    response = model.invoke(messages)\n",
    "    return {\n",
    "        \"messages\": [response],\n",
    "        \"context\": state.get(\"context\", [])\n",
    "    }\n",
    "\n",
    "tool_node = ToolNode(tool_belt)"
   ]
  },
  {
   "cell_type": "code",
   "execution_count": 304,
   "metadata": {},
   "outputs": [
    {
     "data": {
      "text/plain": [
       "<langgraph.graph.state.StateGraph at 0x13869e9c0>"
      ]
     },
     "execution_count": 304,
     "metadata": {},
     "output_type": "execute_result"
    }
   ],
   "source": [
    "from langgraph.graph import StateGraph, END\n",
    "\n",
    "uncompiled_graph = StateGraph(AgentState)\n",
    "uncompiled_graph.add_node(\"agent\", call_model)\n",
    "uncompiled_graph.add_node(\"action\", tool_node)"
   ]
  },
  {
   "cell_type": "code",
   "execution_count": 305,
   "metadata": {},
   "outputs": [
    {
     "data": {
      "text/plain": [
       "<langgraph.graph.state.StateGraph at 0x13869e9c0>"
      ]
     },
     "execution_count": 305,
     "metadata": {},
     "output_type": "execute_result"
    }
   ],
   "source": [
    "uncompiled_graph.set_entry_point(\"agent\")"
   ]
  },
  {
   "cell_type": "code",
   "execution_count": 306,
   "metadata": {},
   "outputs": [
    {
     "data": {
      "text/plain": [
       "<langgraph.graph.state.StateGraph at 0x13869e9c0>"
      ]
     },
     "execution_count": 306,
     "metadata": {},
     "output_type": "execute_result"
    }
   ],
   "source": [
    "def should_continue(state):\n",
    "    last_message = state[\"messages\"][-1]\n",
    "\n",
    "    if last_message.tool_calls:\n",
    "        return \"action\"\n",
    "\n",
    "    return END\n",
    "\n",
    "uncompiled_graph.add_conditional_edges(\n",
    "    \"agent\",\n",
    "    should_continue\n",
    ")"
   ]
  },
  {
   "cell_type": "markdown",
   "metadata": {},
   "source": [
    "## Second Evaluation Run\n",
    "Re-evaluating the enhanced system with Cohere reranking to measure performance improvements across all metrics."
   ]
  },
  {
   "cell_type": "code",
   "execution_count": 307,
   "metadata": {},
   "outputs": [
    {
     "data": {
      "text/plain": [
       "<langgraph.graph.state.StateGraph at 0x13869e9c0>"
      ]
     },
     "execution_count": 307,
     "metadata": {},
     "output_type": "execute_result"
    }
   ],
   "source": [
    "uncompiled_graph.add_edge(\"action\", \"agent\")"
   ]
  },
  {
   "cell_type": "markdown",
   "metadata": {},
   "source": [
    "## Performance Analysis and Visualization\n",
    "Comprehensive comparison between baseline and improved systems with:\n",
    "- **Numerical Analysis**: Calculating exact performance deltas\n",
    "- **Visual Comparison**: Side-by-side performance charts\n",
    "- **Delta Visualization**: Green/red bars showing improvements/degradations\n",
    "\n",
    "The analysis shows significant improvement in context recall (+0.41) while maintaining strong performance across other metrics."
   ]
  },
  {
   "cell_type": "code",
   "execution_count": 308,
   "metadata": {},
   "outputs": [],
   "source": [
    "compiled_graph_w_embeddings = uncompiled_graph.compile()"
   ]
  },
  {
   "cell_type": "code",
   "execution_count": 310,
   "metadata": {},
   "outputs": [
    {
     "name": "stdout",
     "output_type": "stream",
     "text": [
      "\n",
      "=== Starting message parsing ===\n",
      "Message type: <class 'langchain_core.messages.tool.ToolMessage'>\n",
      "Found tool name: tavily_search_results_json\n",
      "Detected tool type: tavily\n",
      "Extracted content length: 6666\n",
      "Parsed 5 Tavily results\n",
      "\n",
      "=== Starting message parsing ===\n",
      "Message type: <class 'langchain_core.messages.tool.ToolMessage'>\n",
      "Found tool name: tavily_search_results_json\n",
      "Detected tool type: tavily\n",
      "Extracted content length: 6598\n",
      "Parsed 5 Tavily results\n",
      "\n",
      "=== Starting message parsing ===\n",
      "Message type: <class 'langchain_core.messages.tool.ToolMessage'>\n",
      "Found tool name: ai_job_rag_tool\n",
      "Detected tool type: None\n",
      "Could not detect tool type\n",
      "\n",
      "=== Starting message parsing ===\n",
      "Message type: <class 'langchain_core.messages.tool.ToolMessage'>\n",
      "Found tool name: ai_job_rag_tool\n",
      "Detected tool type: None\n",
      "Could not detect tool type\n",
      "\n",
      "=== Starting message parsing ===\n",
      "Message type: <class 'langchain_core.messages.human.HumanMessage'>\n",
      "Found tool name: None\n",
      "Error detecting tool type: 'NoneType' object has no attribute 'lower'\n",
      "Detected tool type: None\n",
      "Could not detect tool type\n",
      "\n",
      "=== Starting message parsing ===\n",
      "Message type: <class 'langchain_core.messages.tool.ToolMessage'>\n",
      "Found tool name: ai_job_rag_tool\n",
      "Detected tool type: None\n",
      "Could not detect tool type\n",
      "\n",
      "=== Starting message parsing ===\n",
      "Message type: <class 'langchain_core.messages.tool.ToolMessage'>\n",
      "Found tool name: ai_job_rag_tool\n",
      "Detected tool type: None\n",
      "Could not detect tool type\n",
      "\n",
      "=== Starting message parsing ===\n",
      "Message type: <class 'langchain_core.messages.tool.ToolMessage'>\n",
      "Found tool name: ai_job_rag_tool\n",
      "Detected tool type: None\n",
      "Could not detect tool type\n",
      "\n",
      "=== Starting message parsing ===\n",
      "Message type: <class 'langchain_core.messages.tool.ToolMessage'>\n",
      "Found tool name: ai_job_rag_tool\n",
      "Detected tool type: None\n",
      "Could not detect tool type\n",
      "\n",
      "=== Starting message parsing ===\n",
      "Message type: <class 'langchain_core.messages.tool.ToolMessage'>\n",
      "Found tool name: ai_job_rag_tool\n",
      "Detected tool type: None\n",
      "Could not detect tool type\n"
     ]
    }
   ],
   "source": [
    "for test_row in dataset:\n",
    "    inputs = {\"messages\": [HumanMessage(content=test_row.user_input)]}\n",
    "    response = compiled_graph_w_embeddings.invoke(inputs)\n",
    "    test_row.response = response[\"messages\"][-1].content\n",
    "\n",
    "    # Parse the tool call results\n",
    "    results = parse_tool_call(response[\"messages\"][-2])\n",
    "\n",
    "    # Extract only the text content from the results\n",
    "    if results:\n",
    "        if isinstance(results[0], dict):\n",
    "            # For Tavily and AI RAG results\n",
    "            if 'content' in results[0]:\n",
    "                test_row.retrieved_contexts = [r['content'] for r in results]\n",
    "            # For arXiv results\n",
    "            elif 'summary' in results[0]:\n",
    "                test_row.retrieved_contexts = [r['summary'] for r in results]\n",
    "        else:\n",
    "            # If results are already strings\n",
    "            test_row.retrieved_contexts = results"
   ]
  },
  {
   "cell_type": "code",
   "execution_count": 311,
   "metadata": {},
   "outputs": [
    {
     "data": {
      "text/html": [
       "<div>\n",
       "<style scoped>\n",
       "    .dataframe tbody tr th:only-of-type {\n",
       "        vertical-align: middle;\n",
       "    }\n",
       "\n",
       "    .dataframe tbody tr th {\n",
       "        vertical-align: top;\n",
       "    }\n",
       "\n",
       "    .dataframe thead th {\n",
       "        text-align: right;\n",
       "    }\n",
       "</style>\n",
       "<table border=\"1\" class=\"dataframe\">\n",
       "  <thead>\n",
       "    <tr style=\"text-align: right;\">\n",
       "      <th></th>\n",
       "      <th>user_input</th>\n",
       "      <th>retrieved_contexts</th>\n",
       "      <th>reference_contexts</th>\n",
       "      <th>response</th>\n",
       "      <th>reference</th>\n",
       "    </tr>\n",
       "  </thead>\n",
       "  <tbody>\n",
       "    <tr>\n",
       "      <th>0</th>\n",
       "      <td>As an aspiring data engineer interested in the...</td>\n",
       "      <td>[As a target, let's envisage engineers who are...</td>\n",
       "      <td>[job_id: AI00001\\njob_title: AI Research Scien...</td>\n",
       "      <td>### Skills Required for AI Research Scientist ...</td>\n",
       "      <td>The position at Smart Analytics is within the ...</td>\n",
       "    </tr>\n",
       "    <tr>\n",
       "      <th>1</th>\n",
       "      <td>As an aspiring data engineer, how is AWS relev...</td>\n",
       "      <td>[As a Software Development Engineer in the AWS...</td>\n",
       "      <td>[job_id: AI00002\\njob_title: AI Software Engin...</td>\n",
       "      <td>AWS is highly relevant to the role of an AI So...</td>\n",
       "      <td>In the context of the AI Software Engineer pos...</td>\n",
       "    </tr>\n",
       "    <tr>\n",
       "      <th>2</th>\n",
       "      <td>What is the required education for the AI Spec...</td>\n",
       "      <td>[The required education for the AI Specialist ...</td>\n",
       "      <td>[job_id: AI00003\\njob_title: AI Specialist\\nsa...</td>\n",
       "      <td>The required education for the AI Specialist r...</td>\n",
       "      <td>The required education for the AI Specialist r...</td>\n",
       "    </tr>\n",
       "    <tr>\n",
       "      <th>3</th>\n",
       "      <td>What are the oppurtunities at Future Systems f...</td>\n",
       "      <td>[Future Systems offers several opportunities f...</td>\n",
       "      <td>[job_id: AI00004\\njob_title: NLP Engineer\\nsal...</td>\n",
       "      <td>At Future Systems, there are several opportuni...</td>\n",
       "      <td>The context provides information about a job p...</td>\n",
       "    </tr>\n",
       "    <tr>\n",
       "      <th>4</th>\n",
       "      <td>France job?</td>\n",
       "      <td>[Could you please provide more details about w...</td>\n",
       "      <td>[job_id: AI00005\\njob_title: AI Consultant\\nsa...</td>\n",
       "      <td>Could you please clarify what specific informa...</td>\n",
       "      <td>The job is located in France at Advanced Robot...</td>\n",
       "    </tr>\n",
       "    <tr>\n",
       "      <th>5</th>\n",
       "      <td>Wht is the job in Austrailia that requiers ski...</td>\n",
       "      <td>[The job in Australia that requires skills in ...</td>\n",
       "      <td>[&lt;1-hop&gt;\\n\\njob_id: AI00028\\njob_title: Data A...</td>\n",
       "      <td>The job in Australia that requires skills in H...</td>\n",
       "      <td>The job in Austrailia is for a ML Ops Engineer...</td>\n",
       "    </tr>\n",
       "    <tr>\n",
       "      <th>6</th>\n",
       "      <td>Considering the roles of a Research Scientist ...</td>\n",
       "      <td>[1. Data Analysis: Real estate data is often c...</td>\n",
       "      <td>[&lt;1-hop&gt;\\n\\njob_id: AI00032\\njob_title: Resear...</td>\n",
       "      <td>Python plays a crucial role in both Research S...</td>\n",
       "      <td>Both the Research Scientist position at Cloud ...</td>\n",
       "    </tr>\n",
       "    <tr>\n",
       "      <th>7</th>\n",
       "      <td>Considering the opportunities available in Ind...</td>\n",
       "      <td>[Here's a comparison of the roles of ML Ops En...</td>\n",
       "      <td>[&lt;1-hop&gt;\\n\\njob_id: AI00027\\njob_title: ML Ops...</td>\n",
       "      <td>Here's a comparison of the roles of ML Ops Eng...</td>\n",
       "      <td>The ML Ops Engineer position at TechCorp Inc i...</td>\n",
       "    </tr>\n",
       "    <tr>\n",
       "      <th>8</th>\n",
       "      <td>Considering the roles of a ML Ops Engineer at ...</td>\n",
       "      <td>[### ML Ops Engineer at Future Systems\\n\\nProf...</td>\n",
       "      <td>[&lt;1-hop&gt;\\n\\njob_id: AI00045\\njob_title: ML Ops...</td>\n",
       "      <td>Proficiency in Docker enhances the technical c...</td>\n",
       "      <td>Proficiency in Docker is crucial for both the ...</td>\n",
       "    </tr>\n",
       "    <tr>\n",
       "      <th>9</th>\n",
       "      <td>so if i want to be a data scientist in real es...</td>\n",
       "      <td>[To become a data scientist in the real estate...</td>\n",
       "      <td>[&lt;1-hop&gt;\\n\\njob_id: AI00032\\njob_title: Resear...</td>\n",
       "      <td>To become a data scientist in the real estate ...</td>\n",
       "      <td>Based on the context, if you want to be a data...</td>\n",
       "    </tr>\n",
       "  </tbody>\n",
       "</table>\n",
       "</div>"
      ],
      "text/plain": [
       "                                          user_input  \\\n",
       "0  As an aspiring data engineer interested in the...   \n",
       "1  As an aspiring data engineer, how is AWS relev...   \n",
       "2  What is the required education for the AI Spec...   \n",
       "3  What are the oppurtunities at Future Systems f...   \n",
       "4                                        France job?   \n",
       "5  Wht is the job in Austrailia that requiers ski...   \n",
       "6  Considering the roles of a Research Scientist ...   \n",
       "7  Considering the opportunities available in Ind...   \n",
       "8  Considering the roles of a ML Ops Engineer at ...   \n",
       "9  so if i want to be a data scientist in real es...   \n",
       "\n",
       "                                  retrieved_contexts  \\\n",
       "0  [As a target, let's envisage engineers who are...   \n",
       "1  [As a Software Development Engineer in the AWS...   \n",
       "2  [The required education for the AI Specialist ...   \n",
       "3  [Future Systems offers several opportunities f...   \n",
       "4  [Could you please provide more details about w...   \n",
       "5  [The job in Australia that requires skills in ...   \n",
       "6  [1. Data Analysis: Real estate data is often c...   \n",
       "7  [Here's a comparison of the roles of ML Ops En...   \n",
       "8  [### ML Ops Engineer at Future Systems\\n\\nProf...   \n",
       "9  [To become a data scientist in the real estate...   \n",
       "\n",
       "                                  reference_contexts  \\\n",
       "0  [job_id: AI00001\\njob_title: AI Research Scien...   \n",
       "1  [job_id: AI00002\\njob_title: AI Software Engin...   \n",
       "2  [job_id: AI00003\\njob_title: AI Specialist\\nsa...   \n",
       "3  [job_id: AI00004\\njob_title: NLP Engineer\\nsal...   \n",
       "4  [job_id: AI00005\\njob_title: AI Consultant\\nsa...   \n",
       "5  [<1-hop>\\n\\njob_id: AI00028\\njob_title: Data A...   \n",
       "6  [<1-hop>\\n\\njob_id: AI00032\\njob_title: Resear...   \n",
       "7  [<1-hop>\\n\\njob_id: AI00027\\njob_title: ML Ops...   \n",
       "8  [<1-hop>\\n\\njob_id: AI00045\\njob_title: ML Ops...   \n",
       "9  [<1-hop>\\n\\njob_id: AI00032\\njob_title: Resear...   \n",
       "\n",
       "                                            response  \\\n",
       "0  ### Skills Required for AI Research Scientist ...   \n",
       "1  AWS is highly relevant to the role of an AI So...   \n",
       "2  The required education for the AI Specialist r...   \n",
       "3  At Future Systems, there are several opportuni...   \n",
       "4  Could you please clarify what specific informa...   \n",
       "5  The job in Australia that requires skills in H...   \n",
       "6  Python plays a crucial role in both Research S...   \n",
       "7  Here's a comparison of the roles of ML Ops Eng...   \n",
       "8  Proficiency in Docker enhances the technical c...   \n",
       "9  To become a data scientist in the real estate ...   \n",
       "\n",
       "                                           reference  \n",
       "0  The position at Smart Analytics is within the ...  \n",
       "1  In the context of the AI Software Engineer pos...  \n",
       "2  The required education for the AI Specialist r...  \n",
       "3  The context provides information about a job p...  \n",
       "4  The job is located in France at Advanced Robot...  \n",
       "5  The job in Austrailia is for a ML Ops Engineer...  \n",
       "6  Both the Research Scientist position at Cloud ...  \n",
       "7  The ML Ops Engineer position at TechCorp Inc i...  \n",
       "8  Proficiency in Docker is crucial for both the ...  \n",
       "9  Based on the context, if you want to be a data...  "
      ]
     },
     "execution_count": 311,
     "metadata": {},
     "output_type": "execute_result"
    }
   ],
   "source": [
    "dataset.to_pandas()"
   ]
  },
  {
   "cell_type": "code",
   "execution_count": 312,
   "metadata": {},
   "outputs": [],
   "source": [
    "from ragas import EvaluationDataset\n",
    "evaluation_dataset = EvaluationDataset.from_pandas(dataset.to_pandas())"
   ]
  },
  {
   "cell_type": "code",
   "execution_count": 313,
   "metadata": {},
   "outputs": [],
   "source": [
    "from ragas import evaluate\n",
    "from ragas.llms import LangchainLLMWrapper\n",
    "evaluator_llm = LangchainLLMWrapper(ChatOpenAI(model=\"gpt-4.1-nano\"))"
   ]
  },
  {
   "cell_type": "code",
   "execution_count": 314,
   "metadata": {},
   "outputs": [
    {
     "data": {
      "application/vnd.jupyter.widget-view+json": {
       "model_id": "ae97b85b2b3c4b23b1a48c8fefb9b51a",
       "version_major": 2,
       "version_minor": 0
      },
      "text/plain": [
       "Evaluating:   0%|          | 0/60 [00:00<?, ?it/s]"
      ]
     },
     "metadata": {},
     "output_type": "display_data"
    },
    {
     "data": {
      "text/plain": [
       "{'context_recall': 0.7417, 'faithfulness': 0.7903, 'factual_correctness': 0.6270, 'answer_relevancy': 0.7540, 'context_entity_recall': 0.4490, 'noise_sensitivity_relevant': 0.1676}"
      ]
     },
     "execution_count": 314,
     "metadata": {},
     "output_type": "execute_result"
    }
   ],
   "source": [
    "from ragas.metrics import LLMContextRecall, Faithfulness, FactualCorrectness, ResponseRelevancy, ContextEntityRecall, NoiseSensitivity\n",
    "from ragas import evaluate, RunConfig\n",
    "\n",
    "custom_run_config = RunConfig(timeout=360)\n",
    "\n",
    "result = evaluate(\n",
    "    dataset=evaluation_dataset,\n",
    "    metrics=[LLMContextRecall(), Faithfulness(), FactualCorrectness(), ResponseRelevancy(), ContextEntityRecall(), NoiseSensitivity()],\n",
    "    llm=evaluator_llm,\n",
    "    run_config=custom_run_config\n",
    ")\n",
    "result"
   ]
  },
  {
   "cell_type": "code",
   "execution_count": 316,
   "metadata": {},
   "outputs": [
    {
     "name": "stdout",
     "output_type": "stream",
     "text": [
      "context_recall: +0.4084\n",
      "faithfulness: -0.1358\n",
      "factual_correctness: +0.1950\n",
      "answer_relevancy: -0.1083\n",
      "context_entity_recall: -0.0050\n",
      "noise_sensitivity_relevant: -0.3064\n"
     ]
    }
   ],
   "source": [
    "# Define the first run metrics for AI Job Market Assistant baseline\n",
    "first_run = {\n",
    "    'context_recall': 0.3333,  # Will be populated after first evaluation\n",
    "    'faithfulness': 0.9261,    # Will be populated after first evaluation\n",
    "    'factual_correctness': 0.4320,\n",
    "    'answer_relevancy': 0.8623,\n",
    "    'context_entity_recall': 0.4540,\n",
    "    'noise_sensitivity_relevant': 0.4740\n",
    "}\n",
    "\n",
    "# Define the second run metrics for AI Job Market Assistant improved version\n",
    "second_run = {\n",
    "    'context_recall': 0.7417,  # Will be populated after second evaluation\n",
    "    'faithfulness': 0.7903,    # Will be populated after second evaluation\n",
    "    'factual_correctness': 0.6270,\n",
    "    'answer_relevancy': 0.7540,\n",
    "    'context_entity_recall': 0.4490,\n",
    "    'noise_sensitivity_relevant': 0.1676\n",
    "}\n",
    "\n",
    "def calculate_metric_delta(run1: dict, run2: dict) -> dict:\n",
    "    \"\"\"\n",
    "    Calculate the delta between two metric runs for AI Job Market Assistant.\n",
    "    A positive delta means run2 is higher than run1.\n",
    "\n",
    "    Args:\n",
    "        run1 (dict): First run metrics\n",
    "        run2 (dict): Second run metrics\n",
    "\n",
    "    Returns:\n",
    "        dict: Delta values for each metric\n",
    "    \"\"\"\n",
    "    if not run1.keys() == run2.keys():\n",
    "        raise ValueError(\"Both runs must contain the same metrics\")\n",
    "\n",
    "    delta = {}\n",
    "    for metric in run1:\n",
    "        delta[metric] = round(run2[metric] - run1[metric], 4)\n",
    "    return delta\n",
    "\n",
    "# Uncomment and use after running evaluations\n",
    "delta = calculate_metric_delta(first_run, second_run)\n",
    "# Print results\n",
    "for metric, value in delta.items():\n",
    "    print(f\"{metric}: {value:+.4f}\")"
   ]
  },
  {
   "cell_type": "code",
   "execution_count": 5,
   "metadata": {},
   "outputs": [],
   "source": [
    "# Comparison Insights\n",
    "import matplotlib.pyplot as plt\n",
    "import numpy as np"
   ]
  },
  {
   "cell_type": "code",
   "execution_count": 8,
   "metadata": {},
   "outputs": [
    {
     "name": "stdout",
     "output_type": "stream",
     "text": [
      "context_recall: +0.4084\n",
      "faithfulness: -0.1358\n",
      "factual_correctness: +0.1950\n",
      "answer_relevancy: -0.1083\n",
      "context_entity_recall: -0.0050\n",
      "noise_sensitivity_relevant: -0.3064\n"
     ]
    },
    {
     "data": {
      "image/png": "[encoded data removed]",
      "text/plain": [
       "<Figure size 1200x500 with 2 Axes>"
      ]
     },
     "metadata": {},
     "output_type": "display_data"
    }
   ],
   "source": [
    "# Define the first run metrics for AI Job Market Assistant baseline\n",
    "first_run = {\n",
    "    'context_recall': 0.3333,\n",
    "    'faithfulness': 0.9261,\n",
    "    'factual_correctness': 0.4320,\n",
    "    'answer_relevancy': 0.8623,\n",
    "    'context_entity_recall': 0.4540,\n",
    "    'noise_sensitivity_relevant': 0.4740\n",
    "}\n",
    "\n",
    "# Define the second run metrics for AI Job Market Assistant improved version\n",
    "second_run = {\n",
    "    'context_recall': 0.7417,\n",
    "    'faithfulness': 0.7903,\n",
    "    'factual_correctness': 0.6270,\n",
    "    'answer_relevancy': 0.7540,\n",
    "    'context_entity_recall': 0.4490,\n",
    "    'noise_sensitivity_relevant': 0.1676\n",
    "}\n",
    "\n",
    "def calculate_metric_delta(run1: dict, run2: dict) -> dict:\n",
    "    \"\"\"\n",
    "    Calculate the delta between two metric runs for AI Job Market Assistant.\n",
    "    A positive delta means run2 is higher than run1.\n",
    "\n",
    "    Args:\n",
    "        run1 (dict): First run metrics\n",
    "        run2 (dict): Second run metrics\n",
    "\n",
    "    Returns:\n",
    "        dict: Delta values for each metric\n",
    "    \"\"\"\n",
    "    if not run1.keys() == run2.keys():\n",
    "        raise ValueError(\"Both runs must contain the same metrics\")\n",
    "\n",
    "    delta = {}\n",
    "    for metric in run1:\n",
    "        delta[metric] = round(run2[metric] - run1[metric], 4)\n",
    "    return delta\n",
    "\n",
    "delta = calculate_metric_delta(first_run, second_run)\n",
    "\n",
    "# Print results\n",
    "for metric, value in delta.items():\n",
    "    print(f\"{metric}: {value:+.4f}\")\n",
    "\n",
    "# Create comparison visualization\n",
    "fig, (ax1, ax2) = plt.subplots(1, 2, figsize=(12, 5))\n",
    "\n",
    "# Performance comparison\n",
    "metrics = list(first_run.keys())\n",
    "baseline_values = [first_run[m] for m in metrics]\n",
    "improved_values = [second_run[m] for m in metrics]\n",
    "\n",
    "x = np.arange(len(metrics))\n",
    "width = 0.35\n",
    "\n",
    "ax1.bar(x - width/2, baseline_values, width, label='Baseline', color='lightcoral')\n",
    "ax1.bar(x + width/2, improved_values, width, label='Improved', color='lightblue')\n",
    "ax1.set_xlabel('Metrics')\n",
    "ax1.set_ylabel('Score')\n",
    "ax1.set_title('Performance Comparison')\n",
    "ax1.set_xticks(x)\n",
    "ax1.set_xticklabels([m.replace('_', ' ').title() for m in metrics], rotation=45)\n",
    "ax1.legend()\n",
    "\n",
    "# Performance delta\n",
    "delta_values = [delta[m] for m in metrics]\n",
    "colors = ['green' if x > 0 else 'red' for x in delta_values]\n",
    "ax2.bar(range(len(metrics)), delta_values, color=colors)\n",
    "ax2.set_xlabel('Metrics')\n",
    "ax2.set_ylabel('Change')\n",
    "ax2.set_title('Performance Delta')\n",
    "ax2.set_xticks(range(len(metrics)))\n",
    "ax2.set_xticklabels([m.replace('_', ' ').title() for m in metrics], rotation=45)\n",
    "ax2.axhline(y=0, color='black', linestyle='-', alpha=0.5)\n",
    "\n",
    "plt.tight_layout()\n",
    "plt.show()"
   ]
  }
 ],
 "metadata": {
  "kernelspec": {
   "display_name": "certification-challenge",
   "language": "python",
   "name": "python3"
  },
  "language_info": {
   "codemirror_mode": {
    "name": "ipython",
    "version": 3
   },
   "file_extension": ".py",
   "mimetype": "text/x-python",
   "name": "python",
   "nbconvert_exporter": "python",
   "pygments_lexer": "ipython3",
   "version": "3.12.0"
  }
 },
 "nbformat": 4,
 "nbformat_minor": 4
}